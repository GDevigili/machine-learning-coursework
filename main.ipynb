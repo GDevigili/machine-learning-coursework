{
 "cells": [
  {
   "cell_type": "markdown",
   "metadata": {},
   "source": [
    "# Aprendizado de Máquinas: Trabalho Final"
   ]
  },
  {
   "cell_type": "code",
   "execution_count": 1,
   "metadata": {},
   "outputs": [
    {
     "data": {
      "text/plain": [
       "<Figure size 1080x1080 with 0 Axes>"
      ]
     },
     "metadata": {},
     "output_type": "display_data"
    }
   ],
   "source": [
    "# data manipulation\n",
    "import pandas as pd\n",
    "import numpy as np\n",
    "\n",
    "# data visualization\n",
    "import matplotlib.pyplot as plt\n",
    "import seaborn as sns\n",
    "import plotly.express as px\n",
    "\n",
    "# metrics\n",
    "from scipy.stats import pearsonr\n",
    "\n",
    "# plot configs\n",
    "sns.set(rc={'figure.figsize':(10,10)});\n",
    "plt.figure(figsize = (15,15));"
   ]
  },
  {
   "cell_type": "markdown",
   "metadata": {},
   "source": [
    "## 1. O Dataset"
   ]
  },
  {
   "cell_type": "markdown",
   "metadata": {},
   "source": [
    "Para a realização deste trabalho foi utilizado o clássico dataset do [titanic](https://www.kaggle.com/competitions/titanic)."
   ]
  },
  {
   "cell_type": "markdown",
   "metadata": {},
   "source": [
    "### 1.1 Importando os Dados"
   ]
  },
  {
   "cell_type": "code",
   "execution_count": 2,
   "metadata": {},
   "outputs": [
    {
     "data": {
      "text/html": [
       "<div>\n",
       "<style scoped>\n",
       "    .dataframe tbody tr th:only-of-type {\n",
       "        vertical-align: middle;\n",
       "    }\n",
       "\n",
       "    .dataframe tbody tr th {\n",
       "        vertical-align: top;\n",
       "    }\n",
       "\n",
       "    .dataframe thead th {\n",
       "        text-align: right;\n",
       "    }\n",
       "</style>\n",
       "<table border=\"1\" class=\"dataframe\">\n",
       "  <thead>\n",
       "    <tr style=\"text-align: right;\">\n",
       "      <th></th>\n",
       "      <th>Survived</th>\n",
       "      <th>Pclass</th>\n",
       "      <th>Name</th>\n",
       "      <th>Sex</th>\n",
       "      <th>Age</th>\n",
       "      <th>SibSp</th>\n",
       "      <th>Parch</th>\n",
       "      <th>Ticket</th>\n",
       "      <th>Fare</th>\n",
       "      <th>Cabin</th>\n",
       "      <th>Embarked</th>\n",
       "    </tr>\n",
       "    <tr>\n",
       "      <th>PassengerId</th>\n",
       "      <th></th>\n",
       "      <th></th>\n",
       "      <th></th>\n",
       "      <th></th>\n",
       "      <th></th>\n",
       "      <th></th>\n",
       "      <th></th>\n",
       "      <th></th>\n",
       "      <th></th>\n",
       "      <th></th>\n",
       "      <th></th>\n",
       "    </tr>\n",
       "  </thead>\n",
       "  <tbody>\n",
       "    <tr>\n",
       "      <th>1</th>\n",
       "      <td>0</td>\n",
       "      <td>3</td>\n",
       "      <td>Braund, Mr. Owen Harris</td>\n",
       "      <td>male</td>\n",
       "      <td>22.0</td>\n",
       "      <td>1</td>\n",
       "      <td>0</td>\n",
       "      <td>A/5 21171</td>\n",
       "      <td>7.2500</td>\n",
       "      <td>NaN</td>\n",
       "      <td>S</td>\n",
       "    </tr>\n",
       "    <tr>\n",
       "      <th>2</th>\n",
       "      <td>1</td>\n",
       "      <td>1</td>\n",
       "      <td>Cumings, Mrs. John Bradley (Florence Briggs Th...</td>\n",
       "      <td>female</td>\n",
       "      <td>38.0</td>\n",
       "      <td>1</td>\n",
       "      <td>0</td>\n",
       "      <td>PC 17599</td>\n",
       "      <td>71.2833</td>\n",
       "      <td>C85</td>\n",
       "      <td>C</td>\n",
       "    </tr>\n",
       "    <tr>\n",
       "      <th>3</th>\n",
       "      <td>1</td>\n",
       "      <td>3</td>\n",
       "      <td>Heikkinen, Miss. Laina</td>\n",
       "      <td>female</td>\n",
       "      <td>26.0</td>\n",
       "      <td>0</td>\n",
       "      <td>0</td>\n",
       "      <td>STON/O2. 3101282</td>\n",
       "      <td>7.9250</td>\n",
       "      <td>NaN</td>\n",
       "      <td>S</td>\n",
       "    </tr>\n",
       "    <tr>\n",
       "      <th>4</th>\n",
       "      <td>1</td>\n",
       "      <td>1</td>\n",
       "      <td>Futrelle, Mrs. Jacques Heath (Lily May Peel)</td>\n",
       "      <td>female</td>\n",
       "      <td>35.0</td>\n",
       "      <td>1</td>\n",
       "      <td>0</td>\n",
       "      <td>113803</td>\n",
       "      <td>53.1000</td>\n",
       "      <td>C123</td>\n",
       "      <td>S</td>\n",
       "    </tr>\n",
       "    <tr>\n",
       "      <th>5</th>\n",
       "      <td>0</td>\n",
       "      <td>3</td>\n",
       "      <td>Allen, Mr. William Henry</td>\n",
       "      <td>male</td>\n",
       "      <td>35.0</td>\n",
       "      <td>0</td>\n",
       "      <td>0</td>\n",
       "      <td>373450</td>\n",
       "      <td>8.0500</td>\n",
       "      <td>NaN</td>\n",
       "      <td>S</td>\n",
       "    </tr>\n",
       "  </tbody>\n",
       "</table>\n",
       "</div>"
      ],
      "text/plain": [
       "             Survived  Pclass  \\\n",
       "PassengerId                     \n",
       "1                   0       3   \n",
       "2                   1       1   \n",
       "3                   1       3   \n",
       "4                   1       1   \n",
       "5                   0       3   \n",
       "\n",
       "                                                          Name     Sex   Age  \\\n",
       "PassengerId                                                                    \n",
       "1                                      Braund, Mr. Owen Harris    male  22.0   \n",
       "2            Cumings, Mrs. John Bradley (Florence Briggs Th...  female  38.0   \n",
       "3                                       Heikkinen, Miss. Laina  female  26.0   \n",
       "4                 Futrelle, Mrs. Jacques Heath (Lily May Peel)  female  35.0   \n",
       "5                                     Allen, Mr. William Henry    male  35.0   \n",
       "\n",
       "             SibSp  Parch            Ticket     Fare Cabin Embarked  \n",
       "PassengerId                                                          \n",
       "1                1      0         A/5 21171   7.2500   NaN        S  \n",
       "2                1      0          PC 17599  71.2833   C85        C  \n",
       "3                0      0  STON/O2. 3101282   7.9250   NaN        S  \n",
       "4                1      0            113803  53.1000  C123        S  \n",
       "5                0      0            373450   8.0500   NaN        S  "
      ]
     },
     "execution_count": 2,
     "metadata": {},
     "output_type": "execute_result"
    }
   ],
   "source": [
    "# import the train data\n",
    "train = pd.read_csv('data/train.csv')\n",
    "\n",
    "# the test data is split into two parts\n",
    "# import the test data\n",
    "test = pd.read_csv('data/test.csv')\n",
    "# import the dataset with the classes\n",
    "gender = pd.read_csv('data/gender_submission.csv')\n",
    "# merge the test data with it's classes\n",
    "test = pd.merge(test, gender, on='PassengerId')\n",
    "\n",
    "# merge the train and test data to make the analysis\n",
    "merged_df = train.append(test, ignore_index=True).set_index('PassengerId')\n",
    "merged_df.head()"
   ]
  },
  {
   "cell_type": "code",
   "execution_count": 3,
   "metadata": {},
   "outputs": [
    {
     "name": "stdout",
     "output_type": "stream",
     "text": [
      "<class 'pandas.core.frame.DataFrame'>\n",
      "Int64Index: 1309 entries, 1 to 1309\n",
      "Data columns (total 11 columns):\n",
      " #   Column    Non-Null Count  Dtype  \n",
      "---  ------    --------------  -----  \n",
      " 0   Survived  1309 non-null   int64  \n",
      " 1   Pclass    1309 non-null   int64  \n",
      " 2   Name      1309 non-null   object \n",
      " 3   Sex       1309 non-null   object \n",
      " 4   Age       1046 non-null   float64\n",
      " 5   SibSp     1309 non-null   int64  \n",
      " 6   Parch     1309 non-null   int64  \n",
      " 7   Ticket    1309 non-null   object \n",
      " 8   Fare      1308 non-null   float64\n",
      " 9   Cabin     295 non-null    object \n",
      " 10  Embarked  1307 non-null   object \n",
      "dtypes: float64(2), int64(4), object(5)\n",
      "memory usage: 122.7+ KB\n"
     ]
    }
   ],
   "source": [
    "merged_df.info()"
   ]
  },
  {
   "cell_type": "code",
   "execution_count": 4,
   "metadata": {},
   "outputs": [
    {
     "data": {
      "text/plain": [
       "object     5\n",
       "int64      4\n",
       "float64    2\n",
       "dtype: int64"
      ]
     },
     "execution_count": 4,
     "metadata": {},
     "output_type": "execute_result"
    }
   ],
   "source": [
    "merged_df.dtypes.value_counts()"
   ]
  },
  {
   "cell_type": "markdown",
   "metadata": {},
   "source": [
    "### 1.2. Preparação dos Dados para a Análise Exploratória"
   ]
  },
  {
   "cell_type": "markdown",
   "metadata": {},
   "source": [
    "Inicialmente, foi removida coluna `Name` já que como é uma label, quase que análoga ao `PassengerId`, não será de muito uso para o modelo. Com um tratamento avançado seria possível tentar relacionar o sobrenome à família da pessoa. Porém há o caso de pessoas com o mesmo sobrenome advindas de famílias diferentes que não seria possível tratar."
   ]
  },
  {
   "cell_type": "code",
   "execution_count": 5,
   "metadata": {},
   "outputs": [],
   "source": [
    "merged_df = merged_df.drop('Name', axis=1)"
   ]
  },
  {
   "cell_type": "markdown",
   "metadata": {},
   "source": [
    "Outra questão importante é a idade, que possui $263$ valores faltantes. Inicialmente para lidar com estes casos irei simplesmente substituir tais valores pela média de idade dos passageiros."
   ]
  },
  {
   "cell_type": "code",
   "execution_count": 6,
   "metadata": {},
   "outputs": [
    {
     "name": "stdout",
     "output_type": "stream",
     "text": [
      "Mean Age of the Passengers: 29.881137667304014\n"
     ]
    },
    {
     "data": {
      "text/plain": [
       "<AxesSubplot:ylabel='Frequency'>"
      ]
     },
     "execution_count": 6,
     "metadata": {},
     "output_type": "execute_result"
    },
    {
     "data": {
      "image/png": "[encoded data removed]",
      "text/plain": [
       "<Figure size 720x720 with 1 Axes>"
      ]
     },
     "metadata": {},
     "output_type": "display_data"
    }
   ],
   "source": [
    "print(f'Mean Age of the Passengers: {merged_df[\"Age\"].mean()}')\n",
    "merged_df['Age'].plot(kind = 'hist', bins = 20)"
   ]
  },
  {
   "cell_type": "code",
   "execution_count": 7,
   "metadata": {},
   "outputs": [],
   "source": [
    "merged_df['Age'] = merged_df['Age'].fillna(round(merged_df['Age'].mean(), 0))"
   ]
  },
  {
   "cell_type": "markdown",
   "metadata": {},
   "source": [
    "A coluna `Embarked` possui 2 valores faltantes, portanto irei utilzar a moda da mesma para tratar destes valores. Como a moda é um valor extremamente mais frequente do que os demais, tal substituição não terá um impacto significativo na performance do modelo já que, provavelmente, os dois passageiros realmente embarcaram no porto de Southampton."
   ]
  },
  {
   "cell_type": "code",
   "execution_count": 8,
   "metadata": {},
   "outputs": [
    {
     "name": "stdout",
     "output_type": "stream",
     "text": [
      "Moda da coluna de Embarque: S\n"
     ]
    },
    {
     "data": {
      "image/png": "[encoded data removed]",
      "text/plain": [
       "<Figure size 360x360 with 1 Axes>"
      ]
     },
     "metadata": {},
     "output_type": "display_data"
    }
   ],
   "source": [
    "# calculate the mode\n",
    "embarked_mode = merged_df['Embarked'].mode()\n",
    "print(f'Moda da coluna de Embarque: {embarked_mode[0]}')\n",
    "\n",
    "# plot a barplot with the counts of each class\n",
    "sns.catplot(data = merged_df, y = 'Embarked', kind = 'count')\n",
    "\n",
    "# replace the missing values with the mode\n",
    "merged_df['Embarked'] = merged_df['Embarked'].fillna(embarked_mode[0])"
   ]
  },
  {
   "cell_type": "markdown",
   "metadata": {},
   "source": [
    "A última coluna a ser tratada é a coluna `Fare`. Tal coluna é extremamente influenciada pela *feature* `Pclass`, ou seja, à classe do passageiro, como pode ser visto no *boxplot* abaixo."
   ]
  },
  {
   "cell_type": "code",
   "execution_count": 9,
   "metadata": {},
   "outputs": [
    {
     "name": "stdout",
     "output_type": "stream",
     "text": [
      "Mean Fare of Pclass 1: 87.51\n",
      "Median Fare of Pclass 1: 60.0\n",
      "\n",
      "Mean Fare of Pclass 2: 21.18\n",
      "Median Fare of Pclass 2: 15.05\n",
      "\n",
      "Mean Fare of Pclass 3: 13.3\n",
      "Median Fare of Pclass 3: 8.05\n",
      "\n"
     ]
    },
    {
     "data": {
      "image/png": "[encoded data removed]",
      "text/plain": [
       "<Figure size 720x720 with 1 Axes>"
      ]
     },
     "metadata": {},
     "output_type": "display_data"
    }
   ],
   "source": [
    "sns.boxplot(data = merged_df, x = 'Pclass', y = 'Fare')\n",
    "\n",
    "for i in range(3):\n",
    "    mean = round(merged_df[merged_df['Pclass'] == (i+1)]['Fare'].mean(), 2)\n",
    "    median = round(merged_df[merged_df['Pclass'] == (i+1)]['Fare'].median(), 2)\n",
    "    print(f'Mean Fare of Pclass {i+1}: {mean}\\nMedian Fare of Pclass {i+1}: {median}\\n')"
   ]
  },
  {
   "cell_type": "markdown",
   "metadata": {},
   "source": [
    "Outra observação importante, é que a média desta classe está sendo muito influenciada por valores extremos, por conta de diferir bastante da mediana, logo utilizarei este segundo valor para preencher o valore faltante."
   ]
  },
  {
   "cell_type": "markdown",
   "metadata": {},
   "source": [
    "Como o valor faltante é de classe 3"
   ]
  },
  {
   "cell_type": "code",
   "execution_count": 10,
   "metadata": {},
   "outputs": [],
   "source": [
    "# replace the missing values with the median of the Pclass 3\n",
    "merged_df['Fare'] = merged_df['Fare'].fillna(round(merged_df[merged_df['Pclass'] == 3]['Fare'].median(), 2))"
   ]
  },
  {
   "cell_type": "markdown",
   "metadata": {},
   "source": [
    "Outro problema é o *outlier* com um valor para `Fare` muito extremo, que irei tratar substituindo pela mediana da primeira classe:"
   ]
  },
  {
   "cell_type": "code",
   "execution_count": 11,
   "metadata": {},
   "outputs": [
    {
     "data": {
      "text/html": [
       "<div>\n",
       "<style scoped>\n",
       "    .dataframe tbody tr th:only-of-type {\n",
       "        vertical-align: middle;\n",
       "    }\n",
       "\n",
       "    .dataframe tbody tr th {\n",
       "        vertical-align: top;\n",
       "    }\n",
       "\n",
       "    .dataframe thead th {\n",
       "        text-align: right;\n",
       "    }\n",
       "</style>\n",
       "<table border=\"1\" class=\"dataframe\">\n",
       "  <thead>\n",
       "    <tr style=\"text-align: right;\">\n",
       "      <th></th>\n",
       "      <th>Survived</th>\n",
       "      <th>Pclass</th>\n",
       "      <th>Sex</th>\n",
       "      <th>Age</th>\n",
       "      <th>SibSp</th>\n",
       "      <th>Parch</th>\n",
       "      <th>Ticket</th>\n",
       "      <th>Fare</th>\n",
       "      <th>Cabin</th>\n",
       "      <th>Embarked</th>\n",
       "    </tr>\n",
       "    <tr>\n",
       "      <th>PassengerId</th>\n",
       "      <th></th>\n",
       "      <th></th>\n",
       "      <th></th>\n",
       "      <th></th>\n",
       "      <th></th>\n",
       "      <th></th>\n",
       "      <th></th>\n",
       "      <th></th>\n",
       "      <th></th>\n",
       "      <th></th>\n",
       "    </tr>\n",
       "  </thead>\n",
       "  <tbody>\n",
       "    <tr>\n",
       "      <th>259</th>\n",
       "      <td>1</td>\n",
       "      <td>1</td>\n",
       "      <td>female</td>\n",
       "      <td>35.0</td>\n",
       "      <td>0</td>\n",
       "      <td>0</td>\n",
       "      <td>PC 17755</td>\n",
       "      <td>512.3292</td>\n",
       "      <td>NaN</td>\n",
       "      <td>C</td>\n",
       "    </tr>\n",
       "    <tr>\n",
       "      <th>680</th>\n",
       "      <td>1</td>\n",
       "      <td>1</td>\n",
       "      <td>male</td>\n",
       "      <td>36.0</td>\n",
       "      <td>0</td>\n",
       "      <td>1</td>\n",
       "      <td>PC 17755</td>\n",
       "      <td>512.3292</td>\n",
       "      <td>B51 B53 B55</td>\n",
       "      <td>C</td>\n",
       "    </tr>\n",
       "    <tr>\n",
       "      <th>738</th>\n",
       "      <td>1</td>\n",
       "      <td>1</td>\n",
       "      <td>male</td>\n",
       "      <td>35.0</td>\n",
       "      <td>0</td>\n",
       "      <td>0</td>\n",
       "      <td>PC 17755</td>\n",
       "      <td>512.3292</td>\n",
       "      <td>B101</td>\n",
       "      <td>C</td>\n",
       "    </tr>\n",
       "    <tr>\n",
       "      <th>1235</th>\n",
       "      <td>1</td>\n",
       "      <td>1</td>\n",
       "      <td>female</td>\n",
       "      <td>58.0</td>\n",
       "      <td>0</td>\n",
       "      <td>1</td>\n",
       "      <td>PC 17755</td>\n",
       "      <td>512.3292</td>\n",
       "      <td>B51 B53 B55</td>\n",
       "      <td>C</td>\n",
       "    </tr>\n",
       "  </tbody>\n",
       "</table>\n",
       "</div>"
      ],
      "text/plain": [
       "             Survived  Pclass     Sex   Age  SibSp  Parch    Ticket      Fare  \\\n",
       "PassengerId                                                                     \n",
       "259                 1       1  female  35.0      0      0  PC 17755  512.3292   \n",
       "680                 1       1    male  36.0      0      1  PC 17755  512.3292   \n",
       "738                 1       1    male  35.0      0      0  PC 17755  512.3292   \n",
       "1235                1       1  female  58.0      0      1  PC 17755  512.3292   \n",
       "\n",
       "                   Cabin Embarked  \n",
       "PassengerId                        \n",
       "259                  NaN        C  \n",
       "680          B51 B53 B55        C  \n",
       "738                 B101        C  \n",
       "1235         B51 B53 B55        C  "
      ]
     },
     "execution_count": 11,
     "metadata": {},
     "output_type": "execute_result"
    }
   ],
   "source": [
    "merged_df[merged_df['Fare'] > 300]"
   ]
  },
  {
   "cell_type": "code",
   "execution_count": 12,
   "metadata": {},
   "outputs": [],
   "source": [
    "# change the extreme values to the median of the Pclass 1\n",
    "merged_df.loc[merged_df.Fare > 300, 'Fare'] = round(merged_df[merged_df['Pclass'] == 1]['Fare'].median(), 2)"
   ]
  },
  {
   "cell_type": "markdown",
   "metadata": {},
   "source": [
    "Por fim, a coluna cabine possui muitos valores nulos e não é uma coluna que descreve muito bem os dados, logo optei por simplesmente remover ela do dataset. Também a coluna `Ticket` possui mais de 900 valores distintos, então tratar deles tal qual eles estão seria inviável."
   ]
  },
  {
   "cell_type": "code",
   "execution_count": 13,
   "metadata": {},
   "outputs": [
    {
     "data": {
      "text/plain": [
       "929"
      ]
     },
     "execution_count": 13,
     "metadata": {},
     "output_type": "execute_result"
    }
   ],
   "source": [
    "# count the Ticket unique values\n",
    "len(merged_df['Ticket'].unique())"
   ]
  },
  {
   "cell_type": "code",
   "execution_count": 14,
   "metadata": {},
   "outputs": [
    {
     "name": "stdout",
     "output_type": "stream",
     "text": [
      "<class 'pandas.core.frame.DataFrame'>\n",
      "Int64Index: 1309 entries, 1 to 1309\n",
      "Data columns (total 8 columns):\n",
      " #   Column    Non-Null Count  Dtype  \n",
      "---  ------    --------------  -----  \n",
      " 0   Survived  1309 non-null   int64  \n",
      " 1   Pclass    1309 non-null   int64  \n",
      " 2   Sex       1309 non-null   object \n",
      " 3   Age       1309 non-null   float64\n",
      " 4   SibSp     1309 non-null   int64  \n",
      " 5   Parch     1309 non-null   int64  \n",
      " 6   Fare      1309 non-null   float64\n",
      " 7   Embarked  1309 non-null   object \n",
      "dtypes: float64(2), int64(4), object(2)\n",
      "memory usage: 124.3+ KB\n"
     ]
    },
    {
     "data": {
      "text/html": [
       "<div>\n",
       "<style scoped>\n",
       "    .dataframe tbody tr th:only-of-type {\n",
       "        vertical-align: middle;\n",
       "    }\n",
       "\n",
       "    .dataframe tbody tr th {\n",
       "        vertical-align: top;\n",
       "    }\n",
       "\n",
       "    .dataframe thead th {\n",
       "        text-align: right;\n",
       "    }\n",
       "</style>\n",
       "<table border=\"1\" class=\"dataframe\">\n",
       "  <thead>\n",
       "    <tr style=\"text-align: right;\">\n",
       "      <th></th>\n",
       "      <th>Survived</th>\n",
       "      <th>Pclass</th>\n",
       "      <th>Sex</th>\n",
       "      <th>Age</th>\n",
       "      <th>SibSp</th>\n",
       "      <th>Parch</th>\n",
       "      <th>Fare</th>\n",
       "      <th>Embarked</th>\n",
       "    </tr>\n",
       "    <tr>\n",
       "      <th>PassengerId</th>\n",
       "      <th></th>\n",
       "      <th></th>\n",
       "      <th></th>\n",
       "      <th></th>\n",
       "      <th></th>\n",
       "      <th></th>\n",
       "      <th></th>\n",
       "      <th></th>\n",
       "    </tr>\n",
       "  </thead>\n",
       "  <tbody>\n",
       "    <tr>\n",
       "      <th>1</th>\n",
       "      <td>0</td>\n",
       "      <td>3</td>\n",
       "      <td>male</td>\n",
       "      <td>22.0</td>\n",
       "      <td>1</td>\n",
       "      <td>0</td>\n",
       "      <td>7.2500</td>\n",
       "      <td>S</td>\n",
       "    </tr>\n",
       "    <tr>\n",
       "      <th>2</th>\n",
       "      <td>1</td>\n",
       "      <td>1</td>\n",
       "      <td>female</td>\n",
       "      <td>38.0</td>\n",
       "      <td>1</td>\n",
       "      <td>0</td>\n",
       "      <td>71.2833</td>\n",
       "      <td>C</td>\n",
       "    </tr>\n",
       "    <tr>\n",
       "      <th>3</th>\n",
       "      <td>1</td>\n",
       "      <td>3</td>\n",
       "      <td>female</td>\n",
       "      <td>26.0</td>\n",
       "      <td>0</td>\n",
       "      <td>0</td>\n",
       "      <td>7.9250</td>\n",
       "      <td>S</td>\n",
       "    </tr>\n",
       "    <tr>\n",
       "      <th>4</th>\n",
       "      <td>1</td>\n",
       "      <td>1</td>\n",
       "      <td>female</td>\n",
       "      <td>35.0</td>\n",
       "      <td>1</td>\n",
       "      <td>0</td>\n",
       "      <td>53.1000</td>\n",
       "      <td>S</td>\n",
       "    </tr>\n",
       "    <tr>\n",
       "      <th>5</th>\n",
       "      <td>0</td>\n",
       "      <td>3</td>\n",
       "      <td>male</td>\n",
       "      <td>35.0</td>\n",
       "      <td>0</td>\n",
       "      <td>0</td>\n",
       "      <td>8.0500</td>\n",
       "      <td>S</td>\n",
       "    </tr>\n",
       "  </tbody>\n",
       "</table>\n",
       "</div>"
      ],
      "text/plain": [
       "             Survived  Pclass     Sex   Age  SibSp  Parch     Fare Embarked\n",
       "PassengerId                                                                \n",
       "1                   0       3    male  22.0      1      0   7.2500        S\n",
       "2                   1       1  female  38.0      1      0  71.2833        C\n",
       "3                   1       3  female  26.0      0      0   7.9250        S\n",
       "4                   1       1  female  35.0      1      0  53.1000        S\n",
       "5                   0       3    male  35.0      0      0   8.0500        S"
      ]
     },
     "execution_count": 14,
     "metadata": {},
     "output_type": "execute_result"
    }
   ],
   "source": [
    "merged_df = merged_df.drop('Cabin', axis=1)\n",
    "merged_df = merged_df.drop('Ticket', axis=1)\n",
    "merged_df.info()\n",
    "merged_df.head()"
   ]
  },
  {
   "cell_type": "markdown",
   "metadata": {},
   "source": [
    "### 1.3. Tratando os dados categóricos"
   ]
  },
  {
   "cell_type": "markdown",
   "metadata": {},
   "source": [
    "Primeiro transformei a coluna `Embarked` em *dummies*, ou seja, em 3 colunas binárias, uma para cada um dos pontos de embarque, onde $Embarked_i = 1$, sendo $i=\\{C, Q, S\\}$, significa que o passageiro embarcou no porto em questão e $Embarked_i=0$ caso contrário."
   ]
  },
  {
   "cell_type": "code",
   "execution_count": 15,
   "metadata": {},
   "outputs": [],
   "source": [
    "df_dummies = pd.get_dummies(merged_df, columns=['Embarked'])"
   ]
  },
  {
   "cell_type": "markdown",
   "metadata": {},
   "source": [
    "Então transformei a coluna `Sex` da mesma forma, porém apenas deixando ela como binário, sendo `male = 1` e `female = 0`:"
   ]
  },
  {
   "cell_type": "code",
   "execution_count": 16,
   "metadata": {},
   "outputs": [],
   "source": [
    "df_dummies = pd.get_dummies(df_dummies, columns=['Sex'], drop_first = True)"
   ]
  },
  {
   "cell_type": "markdown",
   "metadata": {},
   "source": [
    "Então o dataset final fica:"
   ]
  },
  {
   "cell_type": "code",
   "execution_count": 17,
   "metadata": {},
   "outputs": [
    {
     "name": "stdout",
     "output_type": "stream",
     "text": [
      "<class 'pandas.core.frame.DataFrame'>\n",
      "Int64Index: 1309 entries, 1 to 1309\n",
      "Data columns (total 10 columns):\n",
      " #   Column      Non-Null Count  Dtype  \n",
      "---  ------      --------------  -----  \n",
      " 0   Survived    1309 non-null   int64  \n",
      " 1   Pclass      1309 non-null   int64  \n",
      " 2   Age         1309 non-null   float64\n",
      " 3   SibSp       1309 non-null   int64  \n",
      " 4   Parch       1309 non-null   int64  \n",
      " 5   Fare        1309 non-null   float64\n",
      " 6   Embarked_C  1309 non-null   uint8  \n",
      " 7   Embarked_Q  1309 non-null   uint8  \n",
      " 8   Embarked_S  1309 non-null   uint8  \n",
      " 9   Sex_male    1309 non-null   uint8  \n",
      "dtypes: float64(2), int64(4), uint8(4)\n",
      "memory usage: 109.0 KB\n",
      "\n",
      " int64      4\n",
      "uint8      4\n",
      "float64    2\n",
      "dtype: int64 \n",
      "\n"
     ]
    },
    {
     "data": {
      "text/html": [
       "<div>\n",
       "<style scoped>\n",
       "    .dataframe tbody tr th:only-of-type {\n",
       "        vertical-align: middle;\n",
       "    }\n",
       "\n",
       "    .dataframe tbody tr th {\n",
       "        vertical-align: top;\n",
       "    }\n",
       "\n",
       "    .dataframe thead th {\n",
       "        text-align: right;\n",
       "    }\n",
       "</style>\n",
       "<table border=\"1\" class=\"dataframe\">\n",
       "  <thead>\n",
       "    <tr style=\"text-align: right;\">\n",
       "      <th></th>\n",
       "      <th>Survived</th>\n",
       "      <th>Pclass</th>\n",
       "      <th>Age</th>\n",
       "      <th>SibSp</th>\n",
       "      <th>Parch</th>\n",
       "      <th>Fare</th>\n",
       "      <th>Embarked_C</th>\n",
       "      <th>Embarked_Q</th>\n",
       "      <th>Embarked_S</th>\n",
       "      <th>Sex_male</th>\n",
       "    </tr>\n",
       "    <tr>\n",
       "      <th>PassengerId</th>\n",
       "      <th></th>\n",
       "      <th></th>\n",
       "      <th></th>\n",
       "      <th></th>\n",
       "      <th></th>\n",
       "      <th></th>\n",
       "      <th></th>\n",
       "      <th></th>\n",
       "      <th></th>\n",
       "      <th></th>\n",
       "    </tr>\n",
       "  </thead>\n",
       "  <tbody>\n",
       "    <tr>\n",
       "      <th>1</th>\n",
       "      <td>0</td>\n",
       "      <td>3</td>\n",
       "      <td>22.0</td>\n",
       "      <td>1</td>\n",
       "      <td>0</td>\n",
       "      <td>7.2500</td>\n",
       "      <td>0</td>\n",
       "      <td>0</td>\n",
       "      <td>1</td>\n",
       "      <td>1</td>\n",
       "    </tr>\n",
       "    <tr>\n",
       "      <th>2</th>\n",
       "      <td>1</td>\n",
       "      <td>1</td>\n",
       "      <td>38.0</td>\n",
       "      <td>1</td>\n",
       "      <td>0</td>\n",
       "      <td>71.2833</td>\n",
       "      <td>1</td>\n",
       "      <td>0</td>\n",
       "      <td>0</td>\n",
       "      <td>0</td>\n",
       "    </tr>\n",
       "    <tr>\n",
       "      <th>3</th>\n",
       "      <td>1</td>\n",
       "      <td>3</td>\n",
       "      <td>26.0</td>\n",
       "      <td>0</td>\n",
       "      <td>0</td>\n",
       "      <td>7.9250</td>\n",
       "      <td>0</td>\n",
       "      <td>0</td>\n",
       "      <td>1</td>\n",
       "      <td>0</td>\n",
       "    </tr>\n",
       "    <tr>\n",
       "      <th>4</th>\n",
       "      <td>1</td>\n",
       "      <td>1</td>\n",
       "      <td>35.0</td>\n",
       "      <td>1</td>\n",
       "      <td>0</td>\n",
       "      <td>53.1000</td>\n",
       "      <td>0</td>\n",
       "      <td>0</td>\n",
       "      <td>1</td>\n",
       "      <td>0</td>\n",
       "    </tr>\n",
       "    <tr>\n",
       "      <th>5</th>\n",
       "      <td>0</td>\n",
       "      <td>3</td>\n",
       "      <td>35.0</td>\n",
       "      <td>0</td>\n",
       "      <td>0</td>\n",
       "      <td>8.0500</td>\n",
       "      <td>0</td>\n",
       "      <td>0</td>\n",
       "      <td>1</td>\n",
       "      <td>1</td>\n",
       "    </tr>\n",
       "  </tbody>\n",
       "</table>\n",
       "</div>"
      ],
      "text/plain": [
       "             Survived  Pclass   Age  SibSp  Parch     Fare  Embarked_C  \\\n",
       "PassengerId                                                              \n",
       "1                   0       3  22.0      1      0   7.2500           0   \n",
       "2                   1       1  38.0      1      0  71.2833           1   \n",
       "3                   1       3  26.0      0      0   7.9250           0   \n",
       "4                   1       1  35.0      1      0  53.1000           0   \n",
       "5                   0       3  35.0      0      0   8.0500           0   \n",
       "\n",
       "             Embarked_Q  Embarked_S  Sex_male  \n",
       "PassengerId                                    \n",
       "1                     0           1         1  \n",
       "2                     0           0         0  \n",
       "3                     0           1         0  \n",
       "4                     0           1         0  \n",
       "5                     0           1         1  "
      ]
     },
     "execution_count": 17,
     "metadata": {},
     "output_type": "execute_result"
    }
   ],
   "source": [
    "df_dummies.info()\n",
    "print('\\n', df_dummies.dtypes.value_counts(), '\\n')\n",
    "df_dummies.head()"
   ]
  },
  {
   "cell_type": "markdown",
   "metadata": {},
   "source": [
    "### 1.4. Análise Exploratória"
   ]
  },
  {
   "cell_type": "markdown",
   "metadata": {},
   "source": [
    "Agora examinando algumas métricas das colunas numéricas:"
   ]
  },
  {
   "cell_type": "code",
   "execution_count": 18,
   "metadata": {},
   "outputs": [
    {
     "data": {
      "text/html": [
       "<div>\n",
       "<style scoped>\n",
       "    .dataframe tbody tr th:only-of-type {\n",
       "        vertical-align: middle;\n",
       "    }\n",
       "\n",
       "    .dataframe tbody tr th {\n",
       "        vertical-align: top;\n",
       "    }\n",
       "\n",
       "    .dataframe thead th {\n",
       "        text-align: right;\n",
       "    }\n",
       "</style>\n",
       "<table border=\"1\" class=\"dataframe\">\n",
       "  <thead>\n",
       "    <tr style=\"text-align: right;\">\n",
       "      <th></th>\n",
       "      <th>Survived</th>\n",
       "      <th>Pclass</th>\n",
       "      <th>Age</th>\n",
       "      <th>SibSp</th>\n",
       "      <th>Parch</th>\n",
       "      <th>Fare</th>\n",
       "    </tr>\n",
       "  </thead>\n",
       "  <tbody>\n",
       "    <tr>\n",
       "      <th>count</th>\n",
       "      <td>1309.000000</td>\n",
       "      <td>1309.000000</td>\n",
       "      <td>1309.000000</td>\n",
       "      <td>1309.000000</td>\n",
       "      <td>1309.000000</td>\n",
       "      <td>1309.000000</td>\n",
       "    </tr>\n",
       "    <tr>\n",
       "      <th>mean</th>\n",
       "      <td>0.377387</td>\n",
       "      <td>2.294882</td>\n",
       "      <td>29.905019</td>\n",
       "      <td>0.498854</td>\n",
       "      <td>0.385027</td>\n",
       "      <td>31.893980</td>\n",
       "    </tr>\n",
       "    <tr>\n",
       "      <th>std</th>\n",
       "      <td>0.484918</td>\n",
       "      <td>0.837836</td>\n",
       "      <td>12.883281</td>\n",
       "      <td>1.041658</td>\n",
       "      <td>0.865560</td>\n",
       "      <td>44.450655</td>\n",
       "    </tr>\n",
       "    <tr>\n",
       "      <th>min</th>\n",
       "      <td>0.000000</td>\n",
       "      <td>1.000000</td>\n",
       "      <td>0.170000</td>\n",
       "      <td>0.000000</td>\n",
       "      <td>0.000000</td>\n",
       "      <td>0.000000</td>\n",
       "    </tr>\n",
       "    <tr>\n",
       "      <th>25%</th>\n",
       "      <td>0.000000</td>\n",
       "      <td>2.000000</td>\n",
       "      <td>22.000000</td>\n",
       "      <td>0.000000</td>\n",
       "      <td>0.000000</td>\n",
       "      <td>7.895800</td>\n",
       "    </tr>\n",
       "    <tr>\n",
       "      <th>50%</th>\n",
       "      <td>0.000000</td>\n",
       "      <td>3.000000</td>\n",
       "      <td>30.000000</td>\n",
       "      <td>0.000000</td>\n",
       "      <td>0.000000</td>\n",
       "      <td>14.454200</td>\n",
       "    </tr>\n",
       "    <tr>\n",
       "      <th>75%</th>\n",
       "      <td>1.000000</td>\n",
       "      <td>3.000000</td>\n",
       "      <td>35.000000</td>\n",
       "      <td>1.000000</td>\n",
       "      <td>0.000000</td>\n",
       "      <td>31.275000</td>\n",
       "    </tr>\n",
       "    <tr>\n",
       "      <th>max</th>\n",
       "      <td>1.000000</td>\n",
       "      <td>3.000000</td>\n",
       "      <td>80.000000</td>\n",
       "      <td>8.000000</td>\n",
       "      <td>9.000000</td>\n",
       "      <td>263.000000</td>\n",
       "    </tr>\n",
       "  </tbody>\n",
       "</table>\n",
       "</div>"
      ],
      "text/plain": [
       "          Survived       Pclass          Age        SibSp        Parch  \\\n",
       "count  1309.000000  1309.000000  1309.000000  1309.000000  1309.000000   \n",
       "mean      0.377387     2.294882    29.905019     0.498854     0.385027   \n",
       "std       0.484918     0.837836    12.883281     1.041658     0.865560   \n",
       "min       0.000000     1.000000     0.170000     0.000000     0.000000   \n",
       "25%       0.000000     2.000000    22.000000     0.000000     0.000000   \n",
       "50%       0.000000     3.000000    30.000000     0.000000     0.000000   \n",
       "75%       1.000000     3.000000    35.000000     1.000000     0.000000   \n",
       "max       1.000000     3.000000    80.000000     8.000000     9.000000   \n",
       "\n",
       "              Fare  \n",
       "count  1309.000000  \n",
       "mean     31.893980  \n",
       "std      44.450655  \n",
       "min       0.000000  \n",
       "25%       7.895800  \n",
       "50%      14.454200  \n",
       "75%      31.275000  \n",
       "max     263.000000  "
      ]
     },
     "execution_count": 18,
     "metadata": {},
     "output_type": "execute_result"
    }
   ],
   "source": [
    "merged_df.describe()"
   ]
  },
  {
   "cell_type": "code",
   "execution_count": 19,
   "metadata": {},
   "outputs": [],
   "source": [
    "numeric_cols = ['Survived', 'Pclass', 'Age', 'SibSp', 'Parch', 'Fare']"
   ]
  },
  {
   "cell_type": "markdown",
   "metadata": {},
   "source": [
    "#### Survived\n",
    "Usando o método `pd.Series.value_counts()` conseguimos ver que o dataset de treino contém dados referentes à $494$ sobreviventes e $815$ pessoas que não sobreviveram."
   ]
  },
  {
   "cell_type": "code",
   "execution_count": 20,
   "metadata": {},
   "outputs": [
    {
     "data": {
      "text/plain": [
       "0    815\n",
       "1    494\n",
       "Name: Survived, dtype: int64"
      ]
     },
     "execution_count": 20,
     "metadata": {},
     "output_type": "execute_result"
    },
    {
     "data": {
      "image/png": "[encoded data removed]",
      "text/plain": [
       "<Figure size 720x720 with 1 Axes>"
      ]
     },
     "metadata": {},
     "output_type": "display_data"
    }
   ],
   "source": [
    "merged_df['Survived'].value_counts().plot(kind='bar')\n",
    "merged_df['Survived'].value_counts()"
   ]
  },
  {
   "cell_type": "markdown",
   "metadata": {},
   "source": [
    "#### Boxplot de `Fare` por classe (`PClass`)"
   ]
  },
  {
   "cell_type": "code",
   "execution_count": 21,
   "metadata": {},
   "outputs": [
    {
     "data": {
      "text/plain": [
       "<AxesSubplot:xlabel='Pclass', ylabel='Fare'>"
      ]
     },
     "execution_count": 21,
     "metadata": {},
     "output_type": "execute_result"
    },
    {
     "data": {
      "image/png": "[encoded data removed]",
      "text/plain": [
       "<Figure size 720x720 with 1 Axes>"
      ]
     },
     "metadata": {},
     "output_type": "display_data"
    }
   ],
   "source": [
    "sns.boxplot(data = merged_df, x = 'Pclass', y = 'Fare')"
   ]
  },
  {
   "cell_type": "code",
   "execution_count": 22,
   "metadata": {},
   "outputs": [
    {
     "data": {
      "image/png": "[encoded data removed]",
      "text/plain": [
       "<Figure size 1080x1080 with 12 Axes>"
      ]
     },
     "metadata": {},
     "output_type": "display_data"
    }
   ],
   "source": [
    "merged_df.plot(kind='box', subplots=True, layout=(4, 3), sharex=False, sharey=False, figsize=(15, 15));"
   ]
  },
  {
   "cell_type": "code",
   "execution_count": 23,
   "metadata": {},
   "outputs": [
    {
     "data": {
      "text/html": [
       "<style type=\"text/css\">\n",
       "#T_a840e_row0_col0, #T_a840e_row1_col1, #T_a840e_row2_col2, #T_a840e_row3_col3, #T_a840e_row4_col4, #T_a840e_row5_col5, #T_a840e_row6_col6, #T_a840e_row7_col7, #T_a840e_row8_col8, #T_a840e_row9_col9 {\n",
       "  background-color: #b40426;\n",
       "  color: #f1f1f1;\n",
       "}\n",
       "#T_a840e_row0_col1, #T_a840e_row6_col1 {\n",
       "  background-color: #7ea1fa;\n",
       "  color: #f1f1f1;\n",
       "}\n",
       "#T_a840e_row0_col2 {\n",
       "  background-color: #86a9fc;\n",
       "  color: #f1f1f1;\n",
       "}\n",
       "#T_a840e_row0_col3, #T_a840e_row7_col8 {\n",
       "  background-color: #6e90f2;\n",
       "  color: #f1f1f1;\n",
       "}\n",
       "#T_a840e_row0_col4, #T_a840e_row4_col7 {\n",
       "  background-color: #92b4fe;\n",
       "  color: #000000;\n",
       "}\n",
       "#T_a840e_row0_col5, #T_a840e_row7_col1 {\n",
       "  background-color: #e2dad5;\n",
       "  color: #000000;\n",
       "}\n",
       "#T_a840e_row0_col6 {\n",
       "  background-color: #dedcdb;\n",
       "  color: #000000;\n",
       "}\n",
       "#T_a840e_row0_col7 {\n",
       "  background-color: #b2ccfb;\n",
       "  color: #000000;\n",
       "}\n",
       "#T_a840e_row0_col8 {\n",
       "  background-color: #b3cdfb;\n",
       "  color: #000000;\n",
       "}\n",
       "#T_a840e_row0_col9, #T_a840e_row1_col2, #T_a840e_row1_col5, #T_a840e_row2_col3, #T_a840e_row5_col1, #T_a840e_row6_col8, #T_a840e_row8_col6, #T_a840e_row8_col7, #T_a840e_row9_col0, #T_a840e_row9_col4 {\n",
       "  background-color: #3b4cc0;\n",
       "  color: #f1f1f1;\n",
       "}\n",
       "#T_a840e_row1_col0 {\n",
       "  background-color: #8db0fe;\n",
       "  color: #000000;\n",
       "}\n",
       "#T_a840e_row1_col3 {\n",
       "  background-color: #80a3fa;\n",
       "  color: #f1f1f1;\n",
       "}\n",
       "#T_a840e_row1_col4 {\n",
       "  background-color: #779af7;\n",
       "  color: #f1f1f1;\n",
       "}\n",
       "#T_a840e_row1_col6, #T_a840e_row5_col9, #T_a840e_row7_col5 {\n",
       "  background-color: #9abbff;\n",
       "  color: #000000;\n",
       "}\n",
       "#T_a840e_row1_col7, #T_a840e_row1_col9, #T_a840e_row2_col5, #T_a840e_row2_col6, #T_a840e_row3_col4 {\n",
       "  background-color: #d8dce2;\n",
       "  color: #000000;\n",
       "}\n",
       "#T_a840e_row1_col8 {\n",
       "  background-color: #dadce0;\n",
       "  color: #000000;\n",
       "}\n",
       "#T_a840e_row2_col0 {\n",
       "  background-color: #b9d0f9;\n",
       "  color: #000000;\n",
       "}\n",
       "#T_a840e_row2_col1 {\n",
       "  background-color: #688aef;\n",
       "  color: #f1f1f1;\n",
       "}\n",
       "#T_a840e_row2_col4, #T_a840e_row9_col3 {\n",
       "  background-color: #4f69d9;\n",
       "  color: #f1f1f1;\n",
       "}\n",
       "#T_a840e_row2_col7, #T_a840e_row6_col2 {\n",
       "  background-color: #a6c4fe;\n",
       "  color: #000000;\n",
       "}\n",
       "#T_a840e_row2_col8 {\n",
       "  background-color: #c1d4f4;\n",
       "  color: #000000;\n",
       "}\n",
       "#T_a840e_row2_col9 {\n",
       "  background-color: #cdd9ec;\n",
       "  color: #000000;\n",
       "}\n",
       "#T_a840e_row3_col0 {\n",
       "  background-color: #c3d5f4;\n",
       "  color: #000000;\n",
       "}\n",
       "#T_a840e_row3_col1, #T_a840e_row3_col6 {\n",
       "  background-color: #c4d5f3;\n",
       "  color: #000000;\n",
       "}\n",
       "#T_a840e_row3_col2 {\n",
       "  background-color: #6282ea;\n",
       "  color: #f1f1f1;\n",
       "}\n",
       "#T_a840e_row3_col5, #T_a840e_row9_col8 {\n",
       "  background-color: #dddcdc;\n",
       "  color: #000000;\n",
       "}\n",
       "#T_a840e_row3_col7 {\n",
       "  background-color: #9ebeff;\n",
       "  color: #000000;\n",
       "}\n",
       "#T_a840e_row3_col8, #T_a840e_row4_col8, #T_a840e_row6_col0 {\n",
       "  background-color: #d7dce3;\n",
       "  color: #000000;\n",
       "}\n",
       "#T_a840e_row3_col9 {\n",
       "  background-color: #adc9fd;\n",
       "  color: #000000;\n",
       "}\n",
       "#T_a840e_row4_col0 {\n",
       "  background-color: #d5dbe5;\n",
       "  color: #000000;\n",
       "}\n",
       "#T_a840e_row4_col1 {\n",
       "  background-color: #bcd2f7;\n",
       "  color: #000000;\n",
       "}\n",
       "#T_a840e_row4_col2, #T_a840e_row6_col4 {\n",
       "  background-color: #7093f3;\n",
       "  color: #f1f1f1;\n",
       "}\n",
       "#T_a840e_row4_col3, #T_a840e_row8_col9 {\n",
       "  background-color: #d6dce4;\n",
       "  color: #000000;\n",
       "}\n",
       "#T_a840e_row4_col5 {\n",
       "  background-color: #e5d8d1;\n",
       "  color: #000000;\n",
       "}\n",
       "#T_a840e_row4_col6, #T_a840e_row7_col0, #T_a840e_row8_col1 {\n",
       "  background-color: #cad8ef;\n",
       "  color: #000000;\n",
       "}\n",
       "#T_a840e_row4_col9, #T_a840e_row8_col5 {\n",
       "  background-color: #98b9ff;\n",
       "  color: #000000;\n",
       "}\n",
       "#T_a840e_row5_col0, #T_a840e_row6_col5 {\n",
       "  background-color: #e8d6cc;\n",
       "  color: #000000;\n",
       "}\n",
       "#T_a840e_row5_col2 {\n",
       "  background-color: #bed2f6;\n",
       "  color: #000000;\n",
       "}\n",
       "#T_a840e_row5_col3, #T_a840e_row8_col0 {\n",
       "  background-color: #a9c6fd;\n",
       "  color: #000000;\n",
       "}\n",
       "#T_a840e_row5_col4 {\n",
       "  background-color: #bbd1f8;\n",
       "  color: #000000;\n",
       "}\n",
       "#T_a840e_row5_col6 {\n",
       "  background-color: #f1cdba;\n",
       "  color: #000000;\n",
       "}\n",
       "#T_a840e_row5_col7, #T_a840e_row8_col4 {\n",
       "  background-color: #88abfd;\n",
       "  color: #000000;\n",
       "}\n",
       "#T_a840e_row5_col8, #T_a840e_row7_col9 {\n",
       "  background-color: #b1cbfc;\n",
       "  color: #000000;\n",
       "}\n",
       "#T_a840e_row6_col3, #T_a840e_row7_col3 {\n",
       "  background-color: #5f7fe8;\n",
       "  color: #f1f1f1;\n",
       "}\n",
       "#T_a840e_row6_col7, #T_a840e_row8_col3 {\n",
       "  background-color: #82a6fb;\n",
       "  color: #f1f1f1;\n",
       "}\n",
       "#T_a840e_row6_col9 {\n",
       "  background-color: #b6cefa;\n",
       "  color: #000000;\n",
       "}\n",
       "#T_a840e_row7_col2 {\n",
       "  background-color: #90b2fe;\n",
       "  color: #000000;\n",
       "}\n",
       "#T_a840e_row7_col4 {\n",
       "  background-color: #5673e0;\n",
       "  color: #f1f1f1;\n",
       "}\n",
       "#T_a840e_row7_col6 {\n",
       "  background-color: #aec9fc;\n",
       "  color: #000000;\n",
       "}\n",
       "#T_a840e_row8_col2 {\n",
       "  background-color: #84a7fc;\n",
       "  color: #f1f1f1;\n",
       "}\n",
       "#T_a840e_row9_col1 {\n",
       "  background-color: #d1dae9;\n",
       "  color: #000000;\n",
       "}\n",
       "#T_a840e_row9_col2 {\n",
       "  background-color: #a2c1ff;\n",
       "  color: #000000;\n",
       "}\n",
       "#T_a840e_row9_col5 {\n",
       "  background-color: #8caffe;\n",
       "  color: #000000;\n",
       "}\n",
       "#T_a840e_row9_col6 {\n",
       "  background-color: #c0d4f5;\n",
       "  color: #000000;\n",
       "}\n",
       "#T_a840e_row9_col7 {\n",
       "  background-color: #94b6ff;\n",
       "  color: #000000;\n",
       "}\n",
       "</style>\n",
       "<table id=\"T_a840e_\">\n",
       "  <thead>\n",
       "    <tr>\n",
       "      <th class=\"blank level0\" >&nbsp;</th>\n",
       "      <th class=\"col_heading level0 col0\" >Survived</th>\n",
       "      <th class=\"col_heading level0 col1\" >Pclass</th>\n",
       "      <th class=\"col_heading level0 col2\" >Age</th>\n",
       "      <th class=\"col_heading level0 col3\" >SibSp</th>\n",
       "      <th class=\"col_heading level0 col4\" >Parch</th>\n",
       "      <th class=\"col_heading level0 col5\" >Fare</th>\n",
       "      <th class=\"col_heading level0 col6\" >Embarked_C</th>\n",
       "      <th class=\"col_heading level0 col7\" >Embarked_Q</th>\n",
       "      <th class=\"col_heading level0 col8\" >Embarked_S</th>\n",
       "      <th class=\"col_heading level0 col9\" >Sex_male</th>\n",
       "    </tr>\n",
       "  </thead>\n",
       "  <tbody>\n",
       "    <tr>\n",
       "      <th id=\"T_a840e_level0_row0\" class=\"row_heading level0 row0\" >Survived</th>\n",
       "      <td id=\"T_a840e_row0_col0\" class=\"data row0 col0\" >1.000000</td>\n",
       "      <td id=\"T_a840e_row0_col1\" class=\"data row0 col1\" >-0.264710</td>\n",
       "      <td id=\"T_a840e_row0_col2\" class=\"data row0 col2\" >-0.048806</td>\n",
       "      <td id=\"T_a840e_row0_col3\" class=\"data row0 col3\" >0.002370</td>\n",
       "      <td id=\"T_a840e_row0_col4\" class=\"data row0 col4\" >0.108919</td>\n",
       "      <td id=\"T_a840e_row0_col5\" class=\"data row0 col5\" >0.232247</td>\n",
       "      <td id=\"T_a840e_row0_col6\" class=\"data row0 col6\" >0.121156</td>\n",
       "      <td id=\"T_a840e_row0_col7\" class=\"data row0 col7\" >0.040950</td>\n",
       "      <td id=\"T_a840e_row0_col8\" class=\"data row0 col8\" >-0.133020</td>\n",
       "      <td id=\"T_a840e_row0_col9\" class=\"data row0 col9\" >-0.688371</td>\n",
       "    </tr>\n",
       "    <tr>\n",
       "      <th id=\"T_a840e_level0_row1\" class=\"row_heading level0 row1\" >Pclass</th>\n",
       "      <td id=\"T_a840e_row1_col0\" class=\"data row1 col0\" >-0.264710</td>\n",
       "      <td id=\"T_a840e_row1_col1\" class=\"data row1 col1\" >1.000000</td>\n",
       "      <td id=\"T_a840e_row1_col2\" class=\"data row1 col2\" >-0.365598</td>\n",
       "      <td id=\"T_a840e_row1_col3\" class=\"data row1 col3\" >0.060832</td>\n",
       "      <td id=\"T_a840e_row1_col4\" class=\"data row1 col4\" >0.018322</td>\n",
       "      <td id=\"T_a840e_row1_col5\" class=\"data row1 col5\" >-0.602317</td>\n",
       "      <td id=\"T_a840e_row1_col6\" class=\"data row1 col6\" >-0.269658</td>\n",
       "      <td id=\"T_a840e_row1_col7\" class=\"data row1 col7\" >0.230491</td>\n",
       "      <td id=\"T_a840e_row1_col8\" class=\"data row1 col8\" >0.091320</td>\n",
       "      <td id=\"T_a840e_row1_col9\" class=\"data row1 col9\" >0.124617</td>\n",
       "    </tr>\n",
       "    <tr>\n",
       "      <th id=\"T_a840e_level0_row2\" class=\"row_heading level0 row2\" >Age</th>\n",
       "      <td id=\"T_a840e_row2_col0\" class=\"data row2 col0\" >-0.048806</td>\n",
       "      <td id=\"T_a840e_row2_col1\" class=\"data row2 col1\" >-0.365598</td>\n",
       "      <td id=\"T_a840e_row2_col2\" class=\"data row2 col2\" >1.000000</td>\n",
       "      <td id=\"T_a840e_row2_col3\" class=\"data row2 col3\" >-0.190774</td>\n",
       "      <td id=\"T_a840e_row2_col4\" class=\"data row2 col4\" >-0.131174</td>\n",
       "      <td id=\"T_a840e_row2_col5\" class=\"data row2 col5\" >0.171250</td>\n",
       "      <td id=\"T_a840e_row2_col6\" class=\"data row2 col6\" >0.076244</td>\n",
       "      <td id=\"T_a840e_row2_col7\" class=\"data row2 col7\" >-0.011551</td>\n",
       "      <td id=\"T_a840e_row2_col8\" class=\"data row2 col8\" >-0.059953</td>\n",
       "      <td id=\"T_a840e_row2_col9\" class=\"data row2 col9\" >0.057627</td>\n",
       "    </tr>\n",
       "    <tr>\n",
       "      <th id=\"T_a840e_level0_row3\" class=\"row_heading level0 row3\" >SibSp</th>\n",
       "      <td id=\"T_a840e_row3_col0\" class=\"data row3 col0\" >0.002370</td>\n",
       "      <td id=\"T_a840e_row3_col1\" class=\"data row3 col1\" >0.060832</td>\n",
       "      <td id=\"T_a840e_row3_col2\" class=\"data row3 col2\" >-0.190774</td>\n",
       "      <td id=\"T_a840e_row3_col3\" class=\"data row3 col3\" >1.000000</td>\n",
       "      <td id=\"T_a840e_row3_col4\" class=\"data row3 col4\" >0.373587</td>\n",
       "      <td id=\"T_a840e_row3_col5\" class=\"data row3 col5\" >0.201606</td>\n",
       "      <td id=\"T_a840e_row3_col6\" class=\"data row3 col6\" >-0.048396</td>\n",
       "      <td id=\"T_a840e_row3_col7\" class=\"data row3 col7\" >-0.048678</td>\n",
       "      <td id=\"T_a840e_row3_col8\" class=\"data row3 col8\" >0.073709</td>\n",
       "      <td id=\"T_a840e_row3_col9\" class=\"data row3 col9\" >-0.109609</td>\n",
       "    </tr>\n",
       "    <tr>\n",
       "      <th id=\"T_a840e_level0_row4\" class=\"row_heading level0 row4\" >Parch</th>\n",
       "      <td id=\"T_a840e_row4_col0\" class=\"data row4 col0\" >0.108919</td>\n",
       "      <td id=\"T_a840e_row4_col1\" class=\"data row4 col1\" >0.018322</td>\n",
       "      <td id=\"T_a840e_row4_col2\" class=\"data row4 col2\" >-0.131174</td>\n",
       "      <td id=\"T_a840e_row4_col3\" class=\"data row4 col3\" >0.373587</td>\n",
       "      <td id=\"T_a840e_row4_col4\" class=\"data row4 col4\" >1.000000</td>\n",
       "      <td id=\"T_a840e_row4_col5\" class=\"data row4 col5\" >0.253903</td>\n",
       "      <td id=\"T_a840e_row4_col6\" class=\"data row4 col6\" >-0.008635</td>\n",
       "      <td id=\"T_a840e_row4_col7\" class=\"data row4 col7\" >-0.100943</td>\n",
       "      <td id=\"T_a840e_row4_col8\" class=\"data row4 col8\" >0.071881</td>\n",
       "      <td id=\"T_a840e_row4_col9\" class=\"data row4 col9\" >-0.213125</td>\n",
       "    </tr>\n",
       "    <tr>\n",
       "      <th id=\"T_a840e_level0_row5\" class=\"row_heading level0 row5\" >Fare</th>\n",
       "      <td id=\"T_a840e_row5_col0\" class=\"data row5 col0\" >0.232247</td>\n",
       "      <td id=\"T_a840e_row5_col1\" class=\"data row5 col1\" >-0.602317</td>\n",
       "      <td id=\"T_a840e_row5_col2\" class=\"data row5 col2\" >0.171250</td>\n",
       "      <td id=\"T_a840e_row5_col3\" class=\"data row5 col3\" >0.201606</td>\n",
       "      <td id=\"T_a840e_row5_col4\" class=\"data row5 col4\" >0.253903</td>\n",
       "      <td id=\"T_a840e_row5_col5\" class=\"data row5 col5\" >1.000000</td>\n",
       "      <td id=\"T_a840e_row5_col6\" class=\"data row5 col6\" >0.272372</td>\n",
       "      <td id=\"T_a840e_row5_col7\" class=\"data row5 col7\" >-0.141220</td>\n",
       "      <td id=\"T_a840e_row5_col8\" class=\"data row5 col8\" >-0.150543</td>\n",
       "      <td id=\"T_a840e_row5_col9\" class=\"data row5 col9\" >-0.206863</td>\n",
       "    </tr>\n",
       "    <tr>\n",
       "      <th id=\"T_a840e_level0_row6\" class=\"row_heading level0 row6\" >Embarked_C</th>\n",
       "      <td id=\"T_a840e_row6_col0\" class=\"data row6 col0\" >0.121156</td>\n",
       "      <td id=\"T_a840e_row6_col1\" class=\"data row6 col1\" >-0.269658</td>\n",
       "      <td id=\"T_a840e_row6_col2\" class=\"data row6 col2\" >0.076244</td>\n",
       "      <td id=\"T_a840e_row6_col3\" class=\"data row6 col3\" >-0.048396</td>\n",
       "      <td id=\"T_a840e_row6_col4\" class=\"data row6 col4\" >-0.008635</td>\n",
       "      <td id=\"T_a840e_row6_col5\" class=\"data row6 col5\" >0.272372</td>\n",
       "      <td id=\"T_a840e_row6_col6\" class=\"data row6 col6\" >1.000000</td>\n",
       "      <td id=\"T_a840e_row6_col7\" class=\"data row6 col7\" >-0.164166</td>\n",
       "      <td id=\"T_a840e_row6_col8\" class=\"data row6 col8\" >-0.778262</td>\n",
       "      <td id=\"T_a840e_row6_col9\" class=\"data row6 col9\" >-0.066564</td>\n",
       "    </tr>\n",
       "    <tr>\n",
       "      <th id=\"T_a840e_level0_row7\" class=\"row_heading level0 row7\" >Embarked_Q</th>\n",
       "      <td id=\"T_a840e_row7_col0\" class=\"data row7 col0\" >0.040950</td>\n",
       "      <td id=\"T_a840e_row7_col1\" class=\"data row7 col1\" >0.230491</td>\n",
       "      <td id=\"T_a840e_row7_col2\" class=\"data row7 col2\" >-0.011551</td>\n",
       "      <td id=\"T_a840e_row7_col3\" class=\"data row7 col3\" >-0.048678</td>\n",
       "      <td id=\"T_a840e_row7_col4\" class=\"data row7 col4\" >-0.100943</td>\n",
       "      <td id=\"T_a840e_row7_col5\" class=\"data row7 col5\" >-0.141220</td>\n",
       "      <td id=\"T_a840e_row7_col6\" class=\"data row7 col6\" >-0.164166</td>\n",
       "      <td id=\"T_a840e_row7_col7\" class=\"data row7 col7\" >1.000000</td>\n",
       "      <td id=\"T_a840e_row7_col8\" class=\"data row7 col8\" >-0.491656</td>\n",
       "      <td id=\"T_a840e_row7_col9\" class=\"data row7 col9\" >-0.088651</td>\n",
       "    </tr>\n",
       "    <tr>\n",
       "      <th id=\"T_a840e_level0_row8\" class=\"row_heading level0 row8\" >Embarked_S</th>\n",
       "      <td id=\"T_a840e_row8_col0\" class=\"data row8 col0\" >-0.133020</td>\n",
       "      <td id=\"T_a840e_row8_col1\" class=\"data row8 col1\" >0.091320</td>\n",
       "      <td id=\"T_a840e_row8_col2\" class=\"data row8 col2\" >-0.059953</td>\n",
       "      <td id=\"T_a840e_row8_col3\" class=\"data row8 col3\" >0.073709</td>\n",
       "      <td id=\"T_a840e_row8_col4\" class=\"data row8 col4\" >0.071881</td>\n",
       "      <td id=\"T_a840e_row8_col5\" class=\"data row8 col5\" >-0.150543</td>\n",
       "      <td id=\"T_a840e_row8_col6\" class=\"data row8 col6\" >-0.778262</td>\n",
       "      <td id=\"T_a840e_row8_col7\" class=\"data row8 col7\" >-0.491656</td>\n",
       "      <td id=\"T_a840e_row8_col8\" class=\"data row8 col8\" >1.000000</td>\n",
       "      <td id=\"T_a840e_row8_col9\" class=\"data row8 col9\" >0.115193</td>\n",
       "    </tr>\n",
       "    <tr>\n",
       "      <th id=\"T_a840e_level0_row9\" class=\"row_heading level0 row9\" >Sex_male</th>\n",
       "      <td id=\"T_a840e_row9_col0\" class=\"data row9 col0\" >-0.688371</td>\n",
       "      <td id=\"T_a840e_row9_col1\" class=\"data row9 col1\" >0.124617</td>\n",
       "      <td id=\"T_a840e_row9_col2\" class=\"data row9 col2\" >0.057627</td>\n",
       "      <td id=\"T_a840e_row9_col3\" class=\"data row9 col3\" >-0.109609</td>\n",
       "      <td id=\"T_a840e_row9_col4\" class=\"data row9 col4\" >-0.213125</td>\n",
       "      <td id=\"T_a840e_row9_col5\" class=\"data row9 col5\" >-0.206863</td>\n",
       "      <td id=\"T_a840e_row9_col6\" class=\"data row9 col6\" >-0.066564</td>\n",
       "      <td id=\"T_a840e_row9_col7\" class=\"data row9 col7\" >-0.088651</td>\n",
       "      <td id=\"T_a840e_row9_col8\" class=\"data row9 col8\" >0.115193</td>\n",
       "      <td id=\"T_a840e_row9_col9\" class=\"data row9 col9\" >1.000000</td>\n",
       "    </tr>\n",
       "  </tbody>\n",
       "</table>\n"
      ],
      "text/plain": [
       "<pandas.io.formats.style.Styler at 0x7f7d5b84a4f0>"
      ]
     },
     "execution_count": 23,
     "metadata": {},
     "output_type": "execute_result"
    }
   ],
   "source": [
    "rs = np.random.RandomState(0)\n",
    "\n",
    "# df = pd.DataFrame(rs.rand(20, 20))\n",
    "corr = df_dummies.corr()\n",
    "corr.style.background_gradient(cmap='coolwarm')"
   ]
  },
  {
   "cell_type": "code",
   "execution_count": 24,
   "metadata": {},
   "outputs": [
    {
     "data": {
      "image/png": "[encoded data removed]",
      "text/plain": [
       "<Figure size 720x720 with 2 Axes>"
      ]
     },
     "metadata": {},
     "output_type": "display_data"
    }
   ],
   "source": [
    "ax = sns.heatmap(   corr, \n",
    "                    vmin=-1, vmax=1, center=0, \n",
    "                    cmap='vlag', #sns.diverging_palette(20, 220, n=200), \n",
    "                    square=True\n",
    "                )\n",
    "ax.set_xticklabels(\n",
    "    ax.get_xticklabels(),\n",
    "    rotation=65,\n",
    "    horizontalalignment='right'\n",
    ");"
   ]
  },
  {
   "cell_type": "code",
   "execution_count": 25,
   "metadata": {},
   "outputs": [
    {
     "name": "stdout",
     "output_type": "stream",
     "text": [
      "Fare          0.232247\n",
      "Embarked_C    0.121156\n",
      "Parch         0.108919\n",
      "Embarked_Q    0.040950\n",
      "SibSp         0.002370\n",
      "Age          -0.048806\n",
      "Embarked_S   -0.133020\n",
      "Pclass       -0.264710\n",
      "Sex_male     -0.688371\n",
      "Name: Survived, dtype: float64\n"
     ]
    },
    {
     "data": {
      "image/png": "[encoded data removed]",
      "text/plain": [
       "<Figure size 720x720 with 1 Axes>"
      ]
     },
     "metadata": {},
     "output_type": "display_data"
    }
   ],
   "source": [
    "aux_corr = corr['Survived'].drop('Survived')#.sort_values(ascending=False)\n",
    "aux_corr = aux_corr.sort_values(ascending=False)\n",
    "print(aux_corr)\n",
    "sns.barplot(\n",
    "    x = aux_corr, \n",
    "    y = aux_corr.index, \n",
    "    palette='vlag');"
   ]
  },
  {
   "cell_type": "code",
   "execution_count": 26,
   "metadata": {},
   "outputs": [
    {
     "name": "stderr",
     "output_type": "stream",
     "text": [
      "No artists with labels found to put in legend.  Note that artists whose label start with an underscore are ignored when legend() is called with no argument.\n"
     ]
    },
    {
     "data": {
      "image/png": "[encoded data removed]",
      "text/plain": [
       "<Figure size 720x720 with 6 Axes>"
      ]
     },
     "metadata": {},
     "output_type": "display_data"
    }
   ],
   "source": [
    "aux_df = merged_df[numeric_cols]\n",
    "\n",
    "survived = aux_df[aux_df['Survived'] == 1]\n",
    "not_survived = aux_df[aux_df['Survived'] == 0]\n",
    "\n",
    "for ax,col in enumerate(aux_df.columns[:9]):\n",
    "    plt.subplot(3,3, ax + 1)\n",
    "    plt.title(col)\n",
    "    sns.kdeplot(x = survived[col], label = \"Not Survived\", warn_singular = False)\n",
    "    sns.kdeplot(x = not_survived[col], label = \"Survived\", warn_singular = False)\n",
    "    plt.legend()\n",
    "plt.tight_layout();"
   ]
  },
  {
   "cell_type": "markdown",
   "metadata": {},
   "source": [
    "## 2. Modelos"
   ]
  },
  {
   "cell_type": "code",
   "execution_count": 234,
   "metadata": {},
   "outputs": [],
   "source": [
    "# modeling\n",
    "from sklearn.model_selection import train_test_split\n",
    "from sklearn import model_selection\n",
    "\n",
    "# metrics\n",
    "from sklearn.metrics import accuracy_score\n",
    "from sklearn.metrics import confusion_matrix\n",
    "from sklearn.metrics import classification_report\n",
    "from sklearn.metrics import average_precision_score\n",
    "from sklearn.metrics import precision_score\n",
    "from sklearn.metrics import recall_score\n",
    "from sklearn.metrics import f1_score\n",
    "from sklearn.metrics import roc_auc_score\n",
    "\n",
    "import itertools\n",
    "\n",
    "cv = model_selection.StratifiedKFold(n_splits=10)"
   ]
  },
  {
   "cell_type": "markdown",
   "metadata": {},
   "source": [
    "### Train Test Split"
   ]
  },
  {
   "cell_type": "code",
   "execution_count": 28,
   "metadata": {},
   "outputs": [
    {
     "name": "stdout",
     "output_type": "stream",
     "text": [
      "Train: (916, 9) Test: (393, 9)\n"
     ]
    }
   ],
   "source": [
    "y = df_dummies['Survived']\n",
    "x = df_dummies.drop('Survived', axis=1)\n",
    "\n",
    "x_train, x_test, y_train, y_test = train_test_split(x, y, test_size=0.3, random_state=0)\n",
    "print(f'Train: {x_train.shape}', f'Test: {x_test.shape}')"
   ]
  },
  {
   "cell_type": "code",
   "execution_count": 153,
   "metadata": {},
   "outputs": [],
   "source": [
    "def plot_confusion_matrix(cm, classes):\n",
    "    plt.figure(figsize=(6, 6))\n",
    "    plt.imshow(cm, interpolation='nearest', cmap=sns.light_palette(\"seagreen\", as_cmap=True))\n",
    "    plt.title('Matriz de Confusão')\n",
    "    plt.colorbar()\n",
    "    tick_marks = np.arange(len(classes))\n",
    "    plt.xticks(tick_marks, classes, rotation=45)\n",
    "    plt.yticks(tick_marks, classes)\n",
    "\n",
    "    print(cm)\n",
    "\n",
    "    thresh = cm.max() / 2.\n",
    "    for i, j in itertools.product(range(cm.shape[0]), range(cm.shape[1])):\n",
    "        plt.text(j, i, cm[i, j],\n",
    "                 horizontalalignment=\"center\",\n",
    "                 color=\"white\" if cm[i, j] > thresh else \"black\")\n",
    "\n",
    "    plt.tight_layout()\n",
    "    plt.ylabel('True label')\n",
    "    plt.xlabel('Predicted label')"
   ]
  },
  {
   "cell_type": "code",
   "execution_count": 152,
   "metadata": {},
   "outputs": [],
   "source": [
    "def classifier_evaluation(clf, X, y_true, classes=['Not Survided', 'Survived']):\n",
    "    y_pred = clf.predict(X)\n",
    "    clf_matrix = confusion_matrix(y_true, y_pred)\n",
    "    # print('Classification Report')\n",
    "    # print(classification_report(y_true, y_pred, target_names=classes))\n",
    "    print('ROC Score: {}'.format(roc_auc_score(y_true, y_pred)))\n",
    "    print('Accuracy Score: {}'.format(accuracy_score(y_true, y_pred)))\n",
    "    print('Average Precision Score: {}'.format(average_precision_score(y_true, y_pred)))\n",
    "    print('f1 Score: {}'.format(f1_score(y_true, y_pred)))\n",
    "    plot_confusion_matrix(clf_matrix, classes=classes)\n",
    "    return roc_auc_score(y_true, y_pred)"
   ]
  },
  {
   "cell_type": "markdown",
   "metadata": {},
   "source": [
    "### K-Nearest Neighbors"
   ]
  },
  {
   "cell_type": "code",
   "execution_count": 235,
   "metadata": {},
   "outputs": [
    {
     "name": "stdout",
     "output_type": "stream",
     "text": [
      "Implemented KNN with 1 neighbors: 0.6666666666666666\n",
      "Implemented KNN with 3 neighbors: 0.6921119592875318\n",
      "Implemented KNN with 5 neighbors: 0.6921119592875318\n",
      "Implemented KNN with 10 neighbors: 0.6870229007633588\n",
      "Implemented KNN with 15 neighbors: 0.6717557251908397\n",
      "Implemented KNN with 20 neighbors: 0.6615776081424937\n",
      "Implemented KNN with 916 neighbors: 0.5648854961832062\n"
     ]
    }
   ],
   "source": [
    "class KnnClassifier:\n",
    "    \n",
    "    def __init__(self, k:int = 5, distances = 'euclidean') -> None:\n",
    "        self.k = k\n",
    "        self.distances = distances\n",
    "\n",
    "\n",
    "    def fit(self, x_train: pd.DataFrame, y_train: pd.Series) -> None:\n",
    "        self.x_train = x_train\n",
    "        self.y_train = y_train\n",
    "\n",
    "\n",
    "    def predict(self, x_test: pd.DataFrame) -> pd.Series:\n",
    "        y_pred = []\n",
    "\n",
    "        for idx, x in x_test.iterrows():\n",
    "\n",
    "            # calculate the distances\n",
    "            if self.distances == 'euclidean':\n",
    "                distances = np.sqrt(np.sum((self.x_train - x)**2, axis = 1))\n",
    "            else:\n",
    "                distances = self.distances\n",
    "\n",
    "            # sort the distances\n",
    "            knn_idx = distances.argsort()[:self.k]\n",
    "\n",
    "            # get the labels of the K nearest neighbors\n",
    "            knn_labels = self.y_train.iloc[knn_idx]\n",
    "\n",
    "            # get the label for the datapoint\n",
    "            y_pred.append(knn_labels.value_counts().idxmax())\n",
    "\n",
    "        return pd.Series(y_pred, index = x_test.index)\n",
    "\n",
    "for k in [1, 3, 5, 10, 15, 20, x_train.shape[0]]:\n",
    "    knn = KnnClassifier(k)\n",
    "    knn.fit(x_train, y_train)\n",
    "    prediction = knn.predict(x_test)\n",
    "    print(f'Implemented KNN with {k} neighbors: {accuracy_score(prediction, y_test)}')"
   ]
  },
  {
   "cell_type": "code",
   "execution_count": 236,
   "metadata": {},
   "outputs": [
    {
     "name": "stdout",
     "output_type": "stream",
     "text": [
      "ROC Score: 0.6703809072230126\n",
      "Accuracy Score: 0.6921119592875318\n",
      "Average Precision Score: 0.5708051675093545\n",
      "f1 Score: 0.5870307167235495\n",
      "[[186  36]\n",
      " [ 85  86]]\n"
     ]
    },
    {
     "name": "stderr",
     "output_type": "stream",
     "text": [
      "/tmp/ipykernel_8040/218661130.py:5: MatplotlibDeprecationWarning: Auto-removal of grids by pcolor() and pcolormesh() is deprecated since 3.5 and will be removed two minor releases later; please call grid(False) first.\n",
      "  plt.colorbar()\n"
     ]
    },
    {
     "data": {
      "text/plain": [
       "0.6703809072230126"
      ]
     },
     "execution_count": 236,
     "metadata": {},
     "output_type": "execute_result"
    },
    {
     "data": {
      "image/png": "[encoded data removed]",
      "text/plain": [
       "<Figure size 432x432 with 2 Axes>"
      ]
     },
     "metadata": {},
     "output_type": "display_data"
    }
   ],
   "source": [
    "my_knn = KnnClassifier(k=5)\n",
    "my_knn.fit(x_train, y_train)\n",
    "\n",
    "classifier_evaluation(my_knn, x_test, y_test)"
   ]
  },
  {
   "cell_type": "code",
   "execution_count": 237,
   "metadata": {},
   "outputs": [
    {
     "name": "stdout",
     "output_type": "stream",
     "text": [
      "Sklearn KNN with 1 neighbors: 0.6513994910941476\n",
      "Sklearn KNN with 3 neighbors: 0.6895674300254453\n",
      "Sklearn KNN with 5 neighbors: 0.6921119592875318\n",
      "Sklearn KNN with 10 neighbors: 0.6615776081424937\n",
      "Sklearn KNN with 15 neighbors: 0.6717557251908397\n",
      "Sklearn KNN with 20 neighbors: 0.6564885496183206\n",
      "Sklearn KNN with 916 neighbors: 0.5648854961832062\n"
     ]
    }
   ],
   "source": [
    "from sklearn.neighbors import KNeighborsClassifier\n",
    "\n",
    "for k in [1, 3, 5, 10, 15, 20, x_train.shape[0]]:\n",
    "    knn = KNeighborsClassifier(n_neighbors=k)\n",
    "    knn.fit(x_train, y_train)\n",
    "    prediction = knn.predict(x_test)\n",
    "    print(f'Sklearn KNN with {k} neighbors: {accuracy_score(prediction, y_test)}')"
   ]
  },
  {
   "cell_type": "code",
   "execution_count": 224,
   "metadata": {},
   "outputs": [
    {
     "name": "stdout",
     "output_type": "stream",
     "text": [
      "best score: 0.7344679881521986\n",
      "best params: {'weights': 'uniform', 'p': 1, 'n_neighbors': 9, 'algorithm': 'kd_tree'}\n"
     ]
    },
    {
     "name": "stderr",
     "output_type": "stream",
     "text": [
      "/home/gianlucca/.local/lib/python3.8/site-packages/sklearn/model_selection/_validation.py:771: UserWarning: Scoring failed. The score on this train-test partition for these parameters will be set to nan. Details: \n",
      "Traceback (most recent call last):\n",
      "  File \"/home/gianlucca/.local/lib/python3.8/site-packages/sklearn/model_selection/_validation.py\", line 762, in _score\n",
      "    scores = scorer(estimator, X_test, y_test)\n",
      "  File \"/home/gianlucca/.local/lib/python3.8/site-packages/sklearn/metrics/_scorer.py\", line 216, in __call__\n",
      "    return self._score(\n",
      "  File \"/home/gianlucca/.local/lib/python3.8/site-packages/sklearn/metrics/_scorer.py\", line 258, in _score\n",
      "    y_pred = method_caller(estimator, \"predict\", X)\n",
      "  File \"/home/gianlucca/.local/lib/python3.8/site-packages/sklearn/metrics/_scorer.py\", line 68, in _cached_call\n",
      "    return getattr(estimator, method)(*args, **kwargs)\n",
      "  File \"/home/gianlucca/.local/lib/python3.8/site-packages/sklearn/neighbors/_classification.py\", line 214, in predict\n",
      "    neigh_dist, neigh_ind = self.kneighbors(X)\n",
      "  File \"/home/gianlucca/.local/lib/python3.8/site-packages/sklearn/neighbors/_base.py\", line 724, in kneighbors\n",
      "    raise ValueError(\n",
      "ValueError: Expected n_neighbors <= n_samples,  but n_samples = 837, n_neighbors = 1047\n",
      "\n",
      "  warnings.warn(\n",
      "/home/gianlucca/.local/lib/python3.8/site-packages/sklearn/model_selection/_validation.py:771: UserWarning: Scoring failed. The score on this train-test partition for these parameters will be set to nan. Details: \n",
      "Traceback (most recent call last):\n",
      "  File \"/home/gianlucca/.local/lib/python3.8/site-packages/sklearn/model_selection/_validation.py\", line 762, in _score\n",
      "    scores = scorer(estimator, X_test, y_test)\n",
      "  File \"/home/gianlucca/.local/lib/python3.8/site-packages/sklearn/metrics/_scorer.py\", line 216, in __call__\n",
      "    return self._score(\n",
      "  File \"/home/gianlucca/.local/lib/python3.8/site-packages/sklearn/metrics/_scorer.py\", line 258, in _score\n",
      "    y_pred = method_caller(estimator, \"predict\", X)\n",
      "  File \"/home/gianlucca/.local/lib/python3.8/site-packages/sklearn/metrics/_scorer.py\", line 68, in _cached_call\n",
      "    return getattr(estimator, method)(*args, **kwargs)\n",
      "  File \"/home/gianlucca/.local/lib/python3.8/site-packages/sklearn/neighbors/_classification.py\", line 214, in predict\n",
      "    neigh_dist, neigh_ind = self.kneighbors(X)\n",
      "  File \"/home/gianlucca/.local/lib/python3.8/site-packages/sklearn/neighbors/_base.py\", line 724, in kneighbors\n",
      "    raise ValueError(\n",
      "ValueError: Expected n_neighbors <= n_samples,  but n_samples = 838, n_neighbors = 1047\n",
      "\n",
      "  warnings.warn(\n",
      "/home/gianlucca/.local/lib/python3.8/site-packages/sklearn/model_selection/_validation.py:771: UserWarning: Scoring failed. The score on this train-test partition for these parameters will be set to nan. Details: \n",
      "Traceback (most recent call last):\n",
      "  File \"/home/gianlucca/.local/lib/python3.8/site-packages/sklearn/model_selection/_validation.py\", line 762, in _score\n",
      "    scores = scorer(estimator, X_test, y_test)\n",
      "  File \"/home/gianlucca/.local/lib/python3.8/site-packages/sklearn/metrics/_scorer.py\", line 216, in __call__\n",
      "    return self._score(\n",
      "  File \"/home/gianlucca/.local/lib/python3.8/site-packages/sklearn/metrics/_scorer.py\", line 258, in _score\n",
      "    y_pred = method_caller(estimator, \"predict\", X)\n",
      "  File \"/home/gianlucca/.local/lib/python3.8/site-packages/sklearn/metrics/_scorer.py\", line 68, in _cached_call\n",
      "    return getattr(estimator, method)(*args, **kwargs)\n",
      "  File \"/home/gianlucca/.local/lib/python3.8/site-packages/sklearn/neighbors/_classification.py\", line 214, in predict\n",
      "    neigh_dist, neigh_ind = self.kneighbors(X)\n",
      "  File \"/home/gianlucca/.local/lib/python3.8/site-packages/sklearn/neighbors/_base.py\", line 724, in kneighbors\n",
      "    raise ValueError(\n",
      "ValueError: Expected n_neighbors <= n_samples,  but n_samples = 838, n_neighbors = 1047\n",
      "\n",
      "  warnings.warn(\n",
      "/home/gianlucca/.local/lib/python3.8/site-packages/sklearn/model_selection/_validation.py:771: UserWarning: Scoring failed. The score on this train-test partition for these parameters will be set to nan. Details: \n",
      "Traceback (most recent call last):\n",
      "  File \"/home/gianlucca/.local/lib/python3.8/site-packages/sklearn/model_selection/_validation.py\", line 762, in _score\n",
      "    scores = scorer(estimator, X_test, y_test)\n",
      "  File \"/home/gianlucca/.local/lib/python3.8/site-packages/sklearn/metrics/_scorer.py\", line 216, in __call__\n",
      "    return self._score(\n",
      "  File \"/home/gianlucca/.local/lib/python3.8/site-packages/sklearn/metrics/_scorer.py\", line 258, in _score\n",
      "    y_pred = method_caller(estimator, \"predict\", X)\n",
      "  File \"/home/gianlucca/.local/lib/python3.8/site-packages/sklearn/metrics/_scorer.py\", line 68, in _cached_call\n",
      "    return getattr(estimator, method)(*args, **kwargs)\n",
      "  File \"/home/gianlucca/.local/lib/python3.8/site-packages/sklearn/neighbors/_classification.py\", line 214, in predict\n",
      "    neigh_dist, neigh_ind = self.kneighbors(X)\n",
      "  File \"/home/gianlucca/.local/lib/python3.8/site-packages/sklearn/neighbors/_base.py\", line 724, in kneighbors\n",
      "    raise ValueError(\n",
      "ValueError: Expected n_neighbors <= n_samples,  but n_samples = 838, n_neighbors = 1047\n",
      "\n",
      "  warnings.warn(\n",
      "/home/gianlucca/.local/lib/python3.8/site-packages/sklearn/model_selection/_validation.py:771: UserWarning: Scoring failed. The score on this train-test partition for these parameters will be set to nan. Details: \n",
      "Traceback (most recent call last):\n",
      "  File \"/home/gianlucca/.local/lib/python3.8/site-packages/sklearn/model_selection/_validation.py\", line 762, in _score\n",
      "    scores = scorer(estimator, X_test, y_test)\n",
      "  File \"/home/gianlucca/.local/lib/python3.8/site-packages/sklearn/metrics/_scorer.py\", line 216, in __call__\n",
      "    return self._score(\n",
      "  File \"/home/gianlucca/.local/lib/python3.8/site-packages/sklearn/metrics/_scorer.py\", line 258, in _score\n",
      "    y_pred = method_caller(estimator, \"predict\", X)\n",
      "  File \"/home/gianlucca/.local/lib/python3.8/site-packages/sklearn/metrics/_scorer.py\", line 68, in _cached_call\n",
      "    return getattr(estimator, method)(*args, **kwargs)\n",
      "  File \"/home/gianlucca/.local/lib/python3.8/site-packages/sklearn/neighbors/_classification.py\", line 214, in predict\n",
      "    neigh_dist, neigh_ind = self.kneighbors(X)\n",
      "  File \"/home/gianlucca/.local/lib/python3.8/site-packages/sklearn/neighbors/_base.py\", line 724, in kneighbors\n",
      "    raise ValueError(\n",
      "ValueError: Expected n_neighbors <= n_samples,  but n_samples = 837, n_neighbors = 1047\n",
      "\n",
      "  warnings.warn(\n",
      "/home/gianlucca/.local/lib/python3.8/site-packages/sklearn/model_selection/_search.py:969: UserWarning: One or more of the test scores are non-finite: [0.69434951 0.73446799 0.69623149 0.6828936  0.71442698 0.70960583\n",
      " 0.69816815        nan 0.68385054 0.69151059]\n",
      "  warnings.warn(\n"
     ]
    }
   ],
   "source": [
    "params = {\n",
    "    'n_neighbors': [1, 3, 5, 6, 7, 8, 9, 10, 15, 20, x_train.shape[0]],\n",
    "    'weights': ['uniform', 'distance'],\n",
    "    'algorithm': ['auto', 'ball_tree', 'kd_tree', 'brute'],\n",
    "    'p': [1, 2],\n",
    "}\n",
    "\n",
    "choose_knn = model_selection.RandomizedSearchCV(KNeighborsClassifier(), params, cv=cv, scoring='accuracy', n_jobs=-1).fit(x_train, y_train)\n",
    "\n",
    "print(f'best score: {choose_knn.best_score_}')\n",
    "print(f'best params: {choose_knn.best_params_}')\n"
   ]
  },
  {
   "cell_type": "code",
   "execution_count": 171,
   "metadata": {},
   "outputs": [
    {
     "name": "stdout",
     "output_type": "stream",
     "text": [
      "ROC Score: 0.6778093883357041\n",
      "Accuracy Score: 0.6997455470737913\n",
      "Average Precision Score: 0.5795516802858196\n",
      "f1 Score: 0.5958904109589042\n",
      "[[188  34]\n",
      " [ 84  87]]\n"
     ]
    },
    {
     "name": "stderr",
     "output_type": "stream",
     "text": [
      "/tmp/ipykernel_8040/218661130.py:5: MatplotlibDeprecationWarning: Auto-removal of grids by pcolor() and pcolormesh() is deprecated since 3.5 and will be removed two minor releases later; please call grid(False) first.\n",
      "  plt.colorbar()\n"
     ]
    },
    {
     "data": {
      "text/plain": [
       "0.6778093883357041"
      ]
     },
     "execution_count": 171,
     "metadata": {},
     "output_type": "execute_result"
    },
    {
     "data": {
      "image/png": "[encoded data removed]",
      "text/plain": [
       "<Figure size 432x432 with 2 Axes>"
      ]
     },
     "metadata": {},
     "output_type": "display_data"
    }
   ],
   "source": [
    "best_knn = KNeighborsClassifier(\n",
    "    n_neighbors=choose_knn.best_params_['n_neighbors'],\n",
    "    weights=choose_knn.best_params_['weights'],\n",
    "    algorithm=choose_knn.best_params_['algorithm'],\n",
    "    p=choose_knn.best_params_['p']\n",
    ").fit(x_train, y_train)\n",
    "\n",
    "classifier_evaluation(best_knn, x_test, y_test)"
   ]
  },
  {
   "cell_type": "markdown",
   "metadata": {},
   "source": [
    "### Logistic Regression"
   ]
  },
  {
   "cell_type": "code",
   "execution_count": 226,
   "metadata": {},
   "outputs": [
    {
     "name": "stdout",
     "output_type": "stream",
     "text": [
      "best score: 0.8529414445203919\n",
      "best params: {'tol': 0.1, 'solver': 'lbfgs', 'penalty': 'l2', 'multi_class': 'ovr', 'C': 100}\n"
     ]
    },
    {
     "name": "stderr",
     "output_type": "stream",
     "text": [
      "/home/gianlucca/.local/lib/python3.8/site-packages/sklearn/linear_model/_logistic.py:1483: UserWarning: Setting penalty='none' will ignore the C and l1_ratio parameters\n",
      "  warnings.warn(\n",
      "/home/gianlucca/.local/lib/python3.8/site-packages/sklearn/linear_model/_logistic.py:1483: UserWarning: Setting penalty='none' will ignore the C and l1_ratio parameters\n",
      "  warnings.warn(\n",
      "/home/gianlucca/.local/lib/python3.8/site-packages/sklearn/linear_model/_logistic.py:1483: UserWarning: Setting penalty='none' will ignore the C and l1_ratio parameters\n",
      "  warnings.warn(\n",
      "/home/gianlucca/.local/lib/python3.8/site-packages/sklearn/linear_model/_sag.py:352: ConvergenceWarning: The max_iter was reached which means the coef_ did not converge\n",
      "  warnings.warn(\n",
      "/home/gianlucca/.local/lib/python3.8/site-packages/sklearn/linear_model/_sag.py:352: ConvergenceWarning: The max_iter was reached which means the coef_ did not converge\n",
      "  warnings.warn(\n",
      "/home/gianlucca/.local/lib/python3.8/site-packages/sklearn/linear_model/_logistic.py:1483: UserWarning: Setting penalty='none' will ignore the C and l1_ratio parameters\n",
      "  warnings.warn(\n",
      "/home/gianlucca/.local/lib/python3.8/site-packages/sklearn/linear_model/_sag.py:352: ConvergenceWarning: The max_iter was reached which means the coef_ did not converge\n",
      "  warnings.warn(\n",
      "/home/gianlucca/.local/lib/python3.8/site-packages/sklearn/linear_model/_logistic.py:1483: UserWarning: Setting penalty='none' will ignore the C and l1_ratio parameters\n",
      "  warnings.warn(\n",
      "/home/gianlucca/.local/lib/python3.8/site-packages/sklearn/linear_model/_sag.py:352: ConvergenceWarning: The max_iter was reached which means the coef_ did not converge\n",
      "  warnings.warn(\n",
      "/home/gianlucca/.local/lib/python3.8/site-packages/sklearn/linear_model/_sag.py:352: ConvergenceWarning: The max_iter was reached which means the coef_ did not converge\n",
      "  warnings.warn(\n",
      "/home/gianlucca/.local/lib/python3.8/site-packages/sklearn/linear_model/_logistic.py:814: ConvergenceWarning: lbfgs failed to converge (status=1):\n",
      "STOP: TOTAL NO. of ITERATIONS REACHED LIMIT.\n",
      "\n",
      "Increase the number of iterations (max_iter) or scale the data as shown in:\n",
      "    https://scikit-learn.org/stable/modules/preprocessing.html\n",
      "Please also refer to the documentation for alternative solver options:\n",
      "    https://scikit-learn.org/stable/modules/linear_model.html#logistic-regression\n",
      "  n_iter_i = _check_optimize_result(\n",
      "/home/gianlucca/.local/lib/python3.8/site-packages/sklearn/linear_model/_logistic.py:814: ConvergenceWarning: lbfgs failed to converge (status=1):\n",
      "STOP: TOTAL NO. of ITERATIONS REACHED LIMIT.\n",
      "\n",
      "Increase the number of iterations (max_iter) or scale the data as shown in:\n",
      "    https://scikit-learn.org/stable/modules/preprocessing.html\n",
      "Please also refer to the documentation for alternative solver options:\n",
      "    https://scikit-learn.org/stable/modules/linear_model.html#logistic-regression\n",
      "  n_iter_i = _check_optimize_result(\n",
      "/home/gianlucca/.local/lib/python3.8/site-packages/sklearn/linear_model/_logistic.py:1483: UserWarning: Setting penalty='none' will ignore the C and l1_ratio parameters\n",
      "  warnings.warn(\n",
      "/home/gianlucca/.local/lib/python3.8/site-packages/sklearn/linear_model/_logistic.py:814: ConvergenceWarning: lbfgs failed to converge (status=1):\n",
      "STOP: TOTAL NO. of ITERATIONS REACHED LIMIT.\n",
      "\n",
      "Increase the number of iterations (max_iter) or scale the data as shown in:\n",
      "    https://scikit-learn.org/stable/modules/preprocessing.html\n",
      "Please also refer to the documentation for alternative solver options:\n",
      "    https://scikit-learn.org/stable/modules/linear_model.html#logistic-regression\n",
      "  n_iter_i = _check_optimize_result(\n",
      "/home/gianlucca/.local/lib/python3.8/site-packages/sklearn/linear_model/_logistic.py:1483: UserWarning: Setting penalty='none' will ignore the C and l1_ratio parameters\n",
      "  warnings.warn(\n",
      "/home/gianlucca/.local/lib/python3.8/site-packages/sklearn/linear_model/_logistic.py:1483: UserWarning: Setting penalty='none' will ignore the C and l1_ratio parameters\n",
      "  warnings.warn(\n",
      "/home/gianlucca/.local/lib/python3.8/site-packages/sklearn/linear_model/_logistic.py:814: ConvergenceWarning: lbfgs failed to converge (status=1):\n",
      "STOP: TOTAL NO. of ITERATIONS REACHED LIMIT.\n",
      "\n",
      "Increase the number of iterations (max_iter) or scale the data as shown in:\n",
      "    https://scikit-learn.org/stable/modules/preprocessing.html\n",
      "Please also refer to the documentation for alternative solver options:\n",
      "    https://scikit-learn.org/stable/modules/linear_model.html#logistic-regression\n",
      "  n_iter_i = _check_optimize_result(\n",
      "/home/gianlucca/.local/lib/python3.8/site-packages/sklearn/linear_model/_logistic.py:1483: UserWarning: Setting penalty='none' will ignore the C and l1_ratio parameters\n",
      "  warnings.warn(\n",
      "/home/gianlucca/.local/lib/python3.8/site-packages/sklearn/linear_model/_logistic.py:814: ConvergenceWarning: lbfgs failed to converge (status=1):\n",
      "STOP: TOTAL NO. of ITERATIONS REACHED LIMIT.\n",
      "\n",
      "Increase the number of iterations (max_iter) or scale the data as shown in:\n",
      "    https://scikit-learn.org/stable/modules/preprocessing.html\n",
      "Please also refer to the documentation for alternative solver options:\n",
      "    https://scikit-learn.org/stable/modules/linear_model.html#logistic-regression\n",
      "  n_iter_i = _check_optimize_result(\n",
      "/home/gianlucca/.local/lib/python3.8/site-packages/sklearn/linear_model/_logistic.py:1483: UserWarning: Setting penalty='none' will ignore the C and l1_ratio parameters\n",
      "  warnings.warn(\n",
      "/home/gianlucca/.local/lib/python3.8/site-packages/sklearn/linear_model/_logistic.py:814: ConvergenceWarning: lbfgs failed to converge (status=1):\n",
      "STOP: TOTAL NO. of ITERATIONS REACHED LIMIT.\n",
      "\n",
      "Increase the number of iterations (max_iter) or scale the data as shown in:\n",
      "    https://scikit-learn.org/stable/modules/preprocessing.html\n",
      "Please also refer to the documentation for alternative solver options:\n",
      "    https://scikit-learn.org/stable/modules/linear_model.html#logistic-regression\n",
      "  n_iter_i = _check_optimize_result(\n",
      "/home/gianlucca/.local/lib/python3.8/site-packages/sklearn/linear_model/_logistic.py:814: ConvergenceWarning: lbfgs failed to converge (status=1):\n",
      "STOP: TOTAL NO. of ITERATIONS REACHED LIMIT.\n",
      "\n",
      "Increase the number of iterations (max_iter) or scale the data as shown in:\n",
      "    https://scikit-learn.org/stable/modules/preprocessing.html\n",
      "Please also refer to the documentation for alternative solver options:\n",
      "    https://scikit-learn.org/stable/modules/linear_model.html#logistic-regression\n",
      "  n_iter_i = _check_optimize_result(\n",
      "/home/gianlucca/.local/lib/python3.8/site-packages/sklearn/linear_model/_logistic.py:814: ConvergenceWarning: lbfgs failed to converge (status=1):\n",
      "STOP: TOTAL NO. of ITERATIONS REACHED LIMIT.\n",
      "\n",
      "Increase the number of iterations (max_iter) or scale the data as shown in:\n",
      "    https://scikit-learn.org/stable/modules/preprocessing.html\n",
      "Please also refer to the documentation for alternative solver options:\n",
      "    https://scikit-learn.org/stable/modules/linear_model.html#logistic-regression\n",
      "  n_iter_i = _check_optimize_result(\n",
      "/home/gianlucca/.local/lib/python3.8/site-packages/sklearn/linear_model/_logistic.py:814: ConvergenceWarning: lbfgs failed to converge (status=1):\n",
      "STOP: TOTAL NO. of ITERATIONS REACHED LIMIT.\n",
      "\n",
      "Increase the number of iterations (max_iter) or scale the data as shown in:\n",
      "    https://scikit-learn.org/stable/modules/preprocessing.html\n",
      "Please also refer to the documentation for alternative solver options:\n",
      "    https://scikit-learn.org/stable/modules/linear_model.html#logistic-regression\n",
      "  n_iter_i = _check_optimize_result(\n",
      "/home/gianlucca/.local/lib/python3.8/site-packages/sklearn/linear_model/_logistic.py:814: ConvergenceWarning: lbfgs failed to converge (status=1):\n",
      "STOP: TOTAL NO. of ITERATIONS REACHED LIMIT.\n",
      "\n",
      "Increase the number of iterations (max_iter) or scale the data as shown in:\n",
      "    https://scikit-learn.org/stable/modules/preprocessing.html\n",
      "Please also refer to the documentation for alternative solver options:\n",
      "    https://scikit-learn.org/stable/modules/linear_model.html#logistic-regression\n",
      "  n_iter_i = _check_optimize_result(\n",
      "/home/gianlucca/.local/lib/python3.8/site-packages/sklearn/model_selection/_validation.py:372: FitFailedWarning: \n",
      "25 fits failed out of a total of 50.\n",
      "The score on these train-test partitions for these parameters will be set to nan.\n",
      "If these failures are not expected, you can try to debug them by setting error_score='raise'.\n",
      "\n",
      "Below are more details about the failures:\n",
      "--------------------------------------------------------------------------------\n",
      "5 fits failed with the following error:\n",
      "Traceback (most recent call last):\n",
      "  File \"/home/gianlucca/.local/lib/python3.8/site-packages/sklearn/model_selection/_validation.py\", line 681, in _fit_and_score\n",
      "    estimator.fit(X_train, y_train, **fit_params)\n",
      "  File \"/home/gianlucca/.local/lib/python3.8/site-packages/sklearn/linear_model/_logistic.py\", line 1461, in fit\n",
      "    solver = _check_solver(self.solver, self.penalty, self.dual)\n",
      "  File \"/home/gianlucca/.local/lib/python3.8/site-packages/sklearn/linear_model/_logistic.py\", line 447, in _check_solver\n",
      "    raise ValueError(\n",
      "ValueError: Solver sag supports only 'l2' or 'none' penalties, got elasticnet penalty.\n",
      "\n",
      "--------------------------------------------------------------------------------\n",
      "5 fits failed with the following error:\n",
      "Traceback (most recent call last):\n",
      "  File \"/home/gianlucca/.local/lib/python3.8/site-packages/sklearn/model_selection/_validation.py\", line 681, in _fit_and_score\n",
      "    estimator.fit(X_train, y_train, **fit_params)\n",
      "  File \"/home/gianlucca/.local/lib/python3.8/site-packages/sklearn/linear_model/_logistic.py\", line 1461, in fit\n",
      "    solver = _check_solver(self.solver, self.penalty, self.dual)\n",
      "  File \"/home/gianlucca/.local/lib/python3.8/site-packages/sklearn/linear_model/_logistic.py\", line 457, in _check_solver\n",
      "    raise ValueError(\n",
      "ValueError: Only 'saga' solver supports elasticnet penalty, got solver=liblinear.\n",
      "\n",
      "--------------------------------------------------------------------------------\n",
      "10 fits failed with the following error:\n",
      "Traceback (most recent call last):\n",
      "  File \"/home/gianlucca/.local/lib/python3.8/site-packages/sklearn/model_selection/_validation.py\", line 681, in _fit_and_score\n",
      "    estimator.fit(X_train, y_train, **fit_params)\n",
      "  File \"/home/gianlucca/.local/lib/python3.8/site-packages/sklearn/linear_model/_logistic.py\", line 1471, in fit\n",
      "    raise ValueError(\n",
      "ValueError: l1_ratio must be between 0 and 1; got (l1_ratio=None)\n",
      "\n",
      "--------------------------------------------------------------------------------\n",
      "5 fits failed with the following error:\n",
      "Traceback (most recent call last):\n",
      "  File \"/home/gianlucca/.local/lib/python3.8/site-packages/sklearn/model_selection/_validation.py\", line 681, in _fit_and_score\n",
      "    estimator.fit(X_train, y_train, **fit_params)\n",
      "  File \"/home/gianlucca/.local/lib/python3.8/site-packages/sklearn/linear_model/_logistic.py\", line 1519, in fit\n",
      "    multi_class = _check_multi_class(self.multi_class, solver, len(self.classes_))\n",
      "  File \"/home/gianlucca/.local/lib/python3.8/site-packages/sklearn/linear_model/_logistic.py\", line 483, in _check_multi_class\n",
      "    raise ValueError(\"Solver %s does not support a multinomial backend.\" % solver)\n",
      "ValueError: Solver liblinear does not support a multinomial backend.\n",
      "\n",
      "  warnings.warn(some_fits_failed_message, FitFailedWarning)\n",
      "/home/gianlucca/.local/lib/python3.8/site-packages/sklearn/model_selection/_search.py:969: UserWarning: One or more of the test scores are non-finite: [       nan 0.75162452 0.85007519        nan        nan        nan\n",
      " 0.66472089 0.85294144 0.82716792        nan]\n",
      "  warnings.warn(\n",
      "/home/gianlucca/.local/lib/python3.8/site-packages/sklearn/linear_model/_logistic.py:814: ConvergenceWarning: lbfgs failed to converge (status=1):\n",
      "STOP: TOTAL NO. of ITERATIONS REACHED LIMIT.\n",
      "\n",
      "Increase the number of iterations (max_iter) or scale the data as shown in:\n",
      "    https://scikit-learn.org/stable/modules/preprocessing.html\n",
      "Please also refer to the documentation for alternative solver options:\n",
      "    https://scikit-learn.org/stable/modules/linear_model.html#logistic-regression\n",
      "  n_iter_i = _check_optimize_result(\n"
     ]
    }
   ],
   "source": [
    "from sklearn.linear_model import LogisticRegression\n",
    "\n",
    "params = {\n",
    "    'penalty': ['l1', 'l2', 'elasticnet', 'none'],\n",
    "    'tol': [1e-5, 1e-4, 1e-3, 1e-2, 1e-1, 1, 10, 100, 1000],\n",
    "    'C': [0.001, 0.01, 0.1, 1, 10, 100, 1000, 10000, 100000], \n",
    "    'solver': ['newton-cg', 'lbfgs', 'liblinear', 'sag', 'saga'],\n",
    "    'multi_class': ['ovr', 'multinomial'],\n",
    "}\n",
    "\n",
    "choose_regression = model_selection.RandomizedSearchCV(LogisticRegression(), params, cv=cv, scoring='accuracy', n_jobs=-1).fit(x_train, y_train)\n",
    "\n",
    "print(f'best score: {choose_regression.best_score_}')\n",
    "print(f'best params: {choose_regression.best_params_}')"
   ]
  },
  {
   "cell_type": "code",
   "execution_count": 228,
   "metadata": {},
   "outputs": [
    {
     "name": "stdout",
     "output_type": "stream",
     "text": [
      "ROC Score: 0.8348903950662516\n",
      "Accuracy Score: 0.8473282442748091\n",
      "Average Precision Score: 0.7283627784089649\n",
      "f1 Score: 0.7999999999999999\n",
      "[[142  17]\n",
      " [ 23  80]]\n"
     ]
    },
    {
     "name": "stderr",
     "output_type": "stream",
     "text": [
      "/tmp/ipykernel_8040/218661130.py:5: MatplotlibDeprecationWarning: Auto-removal of grids by pcolor() and pcolormesh() is deprecated since 3.5 and will be removed two minor releases later; please call grid(False) first.\n",
      "  plt.colorbar()\n"
     ]
    },
    {
     "data": {
      "text/plain": [
       "0.8348903950662516"
      ]
     },
     "execution_count": 228,
     "metadata": {},
     "output_type": "execute_result"
    },
    {
     "data": {
      "image/png": "[encoded data removed]",
      "text/plain": [
       "<Figure size 432x432 with 2 Axes>"
      ]
     },
     "metadata": {},
     "output_type": "display_data"
    }
   ],
   "source": [
    "best_regression = LogisticRegression(\n",
    "    penalty=choose_regression.best_estimator_.penalty,\n",
    "    tol=choose_regression.best_estimator_.tol,\n",
    "    C=choose_regression.best_estimator_.C,\n",
    "    solver=choose_regression.best_estimator_.solver,\n",
    "    multi_class=choose_regression.best_estimator_.multi_class,\n",
    "    max_iter=10**6\n",
    ").fit(x_train, y_train)\n",
    "\n",
    "classifier_evaluation(best_regression, x_test, y_test)"
   ]
  },
  {
   "cell_type": "code",
   "execution_count": 156,
   "metadata": {},
   "outputs": [
    {
     "name": "stdout",
     "output_type": "stream",
     "text": [
      "ROC Score: 0.8721748063853326\n",
      "Accuracy Score: 0.8753180661577609\n",
      "Average Precision Score: 0.7980221439944221\n",
      "f1 Score: 0.855457227138643\n",
      "[[199  23]\n",
      " [ 26 145]]\n"
     ]
    },
    {
     "name": "stderr",
     "output_type": "stream",
     "text": [
      "/tmp/ipykernel_8040/218661130.py:5: MatplotlibDeprecationWarning: Auto-removal of grids by pcolor() and pcolormesh() is deprecated since 3.5 and will be removed two minor releases later; please call grid(False) first.\n",
      "  plt.colorbar()\n"
     ]
    },
    {
     "data": {
      "text/plain": [
       "0.8721748063853326"
      ]
     },
     "execution_count": 156,
     "metadata": {},
     "output_type": "execute_result"
    },
    {
     "data": {
      "image/png": "[encoded data removed]",
      "text/plain": [
       "<Figure size 432x432 with 2 Axes>"
      ]
     },
     "metadata": {},
     "output_type": "display_data"
    }
   ],
   "source": [
    "lr_nwt = LogisticRegression(solver='newton-cg', max_iter=10000).fit(x_train, y_train)\n",
    "\n",
    "classifier_evaluation(lr_nwt, x_test, y_test)"
   ]
  },
  {
   "cell_type": "markdown",
   "metadata": {},
   "source": [
    "### Support Vector Machine Classifier"
   ]
  },
  {
   "cell_type": "code",
   "execution_count": 39,
   "metadata": {},
   "outputs": [
    {
     "name": "stdout",
     "output_type": "stream",
     "text": [
      "Linear SVC: 0.8804071246819338\n"
     ]
    },
    {
     "name": "stderr",
     "output_type": "stream",
     "text": [
      "/home/gianlucca/.local/lib/python3.8/site-packages/sklearn/svm/_base.py:1206: ConvergenceWarning: Liblinear failed to converge, increase the number of iterations.\n",
      "  warnings.warn(\n"
     ]
    }
   ],
   "source": [
    "from sklearn.svm import LinearSVC\n",
    "\n",
    "linear_svc = LinearSVC(C=1, max_iter=10000).fit(x_train, y_train)\n",
    "pred = linear_svc.predict(x_test)\n",
    "print(f'Linear SVC: {accuracy_score(pred, y_test)}')"
   ]
  },
  {
   "cell_type": "code",
   "execution_count": 40,
   "metadata": {},
   "outputs": [
    {
     "name": "stdout",
     "output_type": "stream",
     "text": [
      "SVC with linear kernel: 0.8753180661577609\n",
      "SVC with poly kernel: 0.6005089058524173\n",
      "SVC with rbf kernel: 0.6183206106870229\n",
      "SVC with sigmoid kernel: 0.6055979643765903\n"
     ]
    }
   ],
   "source": [
    "from sklearn.svm import SVC\n",
    "\n",
    "for kernel in ['linear', 'poly', 'rbf', 'sigmoid']:\n",
    "    svc = SVC(kernel=kernel, max_iter=-1).fit(x_train, y_train)\n",
    "    pred = svc.predict(x_test)\n",
    "    print(f'SVC with {kernel} kernel: {accuracy_score(pred, y_test)}')"
   ]
  },
  {
   "cell_type": "code",
   "execution_count": null,
   "metadata": {},
   "outputs": [],
   "source": [
    "params = {\n",
    "    'kernel': ['linear', 'poly', 'rbf', 'sigmoid'], \n",
    "    'C': np.linspace(0.1,3,7), \n",
    "    'degree': [2, 3, 4, 5],\n",
    "    'gamma': np.logspace(-5, 0, 7)\n",
    "}\n",
    "\n",
    "# the following line of the code is commented because it runs for too much time (some hours hehe)\n",
    "# the results are kernel = 'linear', c = 3.0, degree = 5 and gamma = 0.021544346900318846, with an accuracy of 0.8460441910192446\n",
    "# choose_sgd = model_selection.RandomizedSearchCV(SVC(), params, cv=5, scoring='accuracy', n_jobs=-1).fit(x_train, y_train)\n",
    "\n",
    "print(f'best accuracy: {choose_sgd.best_score_}')\n",
    "print(f'best params: {choose_sgd.best_params_}')"
   ]
  },
  {
   "cell_type": "markdown",
   "metadata": {},
   "source": [
    "Construindo um modelo com os melhores parâmetros:"
   ]
  },
  {
   "cell_type": "code",
   "execution_count": 157,
   "metadata": {},
   "outputs": [
    {
     "name": "stdout",
     "output_type": "stream",
     "text": [
      "ROC Score: 0.8728465307412675\n",
      "Accuracy Score: 0.8753180661577609\n",
      "Average Precision Score: 0.7968777654358917\n",
      "f1 Score: 0.8563049853372433\n",
      "[[198  24]\n",
      " [ 25 146]]\n"
     ]
    },
    {
     "name": "stderr",
     "output_type": "stream",
     "text": [
      "/tmp/ipykernel_8040/218661130.py:5: MatplotlibDeprecationWarning: Auto-removal of grids by pcolor() and pcolormesh() is deprecated since 3.5 and will be removed two minor releases later; please call grid(False) first.\n",
      "  plt.colorbar()\n"
     ]
    },
    {
     "data": {
      "text/plain": [
       "0.8728465307412675"
      ]
     },
     "execution_count": 157,
     "metadata": {},
     "output_type": "execute_result"
    },
    {
     "data": {
      "image/png": "[encoded data removed]",
      "text/plain": [
       "<Figure size 432x432 with 2 Axes>"
      ]
     },
     "metadata": {},
     "output_type": "display_data"
    }
   ],
   "source": [
    "best_svc = SVC(\n",
    "    kernel='linear', \n",
    "    C=3.0, \n",
    "    degree=5, \n",
    "    gamma=0.021544346900318846,\n",
    "    max_iter=-1,\n",
    "    shrinking=True,\n",
    "    tol=0.001,\n",
    "    probability=False,\n",
    "    cache_size=200,\n",
    "    random_state=0\n",
    ").fit(x_train, y_train)\n",
    "\n",
    "classifier_evaluation(best_svc, x_test, y_test)"
   ]
  },
  {
   "cell_type": "markdown",
   "metadata": {},
   "source": [
    "### SGD"
   ]
  },
  {
   "cell_type": "code",
   "execution_count": 109,
   "metadata": {},
   "outputs": [
    {
     "name": "stdout",
     "output_type": "stream",
     "text": [
      "best accuracy: 0.8351152292706105\n",
      "best params: {'shuffle': False, 'penalty': 'l1', 'loss': 'squared_hinge', 'learning_rate': 'optimal', 'alpha': 1.0}\n"
     ]
    },
    {
     "name": "stderr",
     "output_type": "stream",
     "text": [
      "/home/gianlucca/.local/lib/python3.8/site-packages/sklearn/linear_model/_stochastic_gradient.py:696: ConvergenceWarning: Maximum number of iteration reached before convergence. Consider increasing max_iter to improve the fit.\n",
      "  warnings.warn(\n",
      "/home/gianlucca/.local/lib/python3.8/site-packages/sklearn/linear_model/_stochastic_gradient.py:696: ConvergenceWarning: Maximum number of iteration reached before convergence. Consider increasing max_iter to improve the fit.\n",
      "  warnings.warn(\n",
      "/home/gianlucca/.local/lib/python3.8/site-packages/sklearn/linear_model/_stochastic_gradient.py:696: ConvergenceWarning: Maximum number of iteration reached before convergence. Consider increasing max_iter to improve the fit.\n",
      "  warnings.warn(\n",
      "/home/gianlucca/.local/lib/python3.8/site-packages/sklearn/linear_model/_stochastic_gradient.py:696: ConvergenceWarning: Maximum number of iteration reached before convergence. Consider increasing max_iter to improve the fit.\n",
      "  warnings.warn(\n",
      "/home/gianlucca/.local/lib/python3.8/site-packages/sklearn/linear_model/_stochastic_gradient.py:696: ConvergenceWarning: Maximum number of iteration reached before convergence. Consider increasing max_iter to improve the fit.\n",
      "  warnings.warn(\n",
      "/home/gianlucca/.local/lib/python3.8/site-packages/sklearn/model_selection/_validation.py:372: FitFailedWarning: \n",
      "40 fits failed out of a total of 50.\n",
      "The score on these train-test partitions for these parameters will be set to nan.\n",
      "If these failures are not expected, you can try to debug them by setting error_score='raise'.\n",
      "\n",
      "Below are more details about the failures:\n",
      "--------------------------------------------------------------------------------\n",
      "40 fits failed with the following error:\n",
      "Traceback (most recent call last):\n",
      "  File \"/home/gianlucca/.local/lib/python3.8/site-packages/sklearn/model_selection/_validation.py\", line 681, in _fit_and_score\n",
      "    estimator.fit(X_train, y_train, **fit_params)\n",
      "  File \"/home/gianlucca/.local/lib/python3.8/site-packages/sklearn/linear_model/_stochastic_gradient.py\", line 883, in fit\n",
      "    return self._fit(\n",
      "  File \"/home/gianlucca/.local/lib/python3.8/site-packages/sklearn/linear_model/_stochastic_gradient.py\", line 649, in _fit\n",
      "    self._validate_params()\n",
      "  File \"/home/gianlucca/.local/lib/python3.8/site-packages/sklearn/linear_model/_stochastic_gradient.py\", line 149, in _validate_params\n",
      "    raise ValueError(\"eta0 must be > 0\")\n",
      "ValueError: eta0 must be > 0\n",
      "\n",
      "  warnings.warn(some_fits_failed_message, FitFailedWarning)\n",
      "/home/gianlucca/.local/lib/python3.8/site-packages/sklearn/model_selection/_search.py:969: UserWarning: One or more of the test scores are non-finite: [       nan        nan        nan        nan        nan        nan\n",
      " 0.34386434        nan 0.83511523        nan]\n",
      "  warnings.warn(\n",
      "/home/gianlucca/.local/lib/python3.8/site-packages/sklearn/linear_model/_stochastic_gradient.py:696: ConvergenceWarning: Maximum number of iteration reached before convergence. Consider increasing max_iter to improve the fit.\n",
      "  warnings.warn(\n"
     ]
    }
   ],
   "source": [
    "from sklearn.linear_model import SGDClassifier\n",
    "\n",
    "params = {\n",
    "    'loss': [\n",
    "            'hinge', \n",
    "            'log_loss', \n",
    "            'log', \n",
    "            'modified_huber', \n",
    "            'squared_hinge', \n",
    "            'perceptron', \n",
    "            'squared_error', \n",
    "            'huber',\n",
    "            'epsilon_insensitive', \n",
    "            'squared_epsilon_insensitive'\n",
    "    ],\n",
    "    'penalty': ['l2', 'l1', 'elasticnet'],\n",
    "    'alpha': np.logspace(-5, 0, 7),\n",
    "    'shuffle': [True, False],\n",
    "    'learning_rate': ['constant', 'optimal', 'invscaling', 'adaptive'],\n",
    "}\n",
    "\n",
    "choose_sgd = model_selection.RandomizedSearchCV(SGDClassifier(), params, cv=5, scoring='accuracy', n_jobs=-1, random_state=None).fit(x_train, y_train);\n",
    "\n",
    "print(f'best accuracy: {choose_sgd.best_score_}')\n",
    "print(f'best params: {choose_sgd.best_params_}')\n"
   ]
  },
  {
   "cell_type": "code",
   "execution_count": 158,
   "metadata": {},
   "outputs": [
    {
     "name": "stdout",
     "output_type": "stream",
     "text": [
      "ROC Score: 0.8654180496285759\n",
      "Accuracy Score: 0.8676844783715013\n",
      "Average Precision Score: 0.7851824179737172\n",
      "f1 Score: 0.847953216374269\n",
      "[[196  26]\n",
      " [ 26 145]]\n"
     ]
    },
    {
     "name": "stderr",
     "output_type": "stream",
     "text": [
      "/home/gianlucca/.local/lib/python3.8/site-packages/sklearn/linear_model/_stochastic_gradient.py:696: ConvergenceWarning: Maximum number of iteration reached before convergence. Consider increasing max_iter to improve the fit.\n",
      "  warnings.warn(\n",
      "/tmp/ipykernel_8040/218661130.py:5: MatplotlibDeprecationWarning: Auto-removal of grids by pcolor() and pcolormesh() is deprecated since 3.5 and will be removed two minor releases later; please call grid(False) first.\n",
      "  plt.colorbar()\n"
     ]
    },
    {
     "data": {
      "text/plain": [
       "0.8654180496285759"
      ]
     },
     "execution_count": 158,
     "metadata": {},
     "output_type": "execute_result"
    },
    {
     "data": {
      "image/png": "[encoded data removed]",
      "text/plain": [
       "<Figure size 432x432 with 2 Axes>"
      ]
     },
     "metadata": {},
     "output_type": "display_data"
    }
   ],
   "source": [
    "best_sgd = SGDClassifier(\n",
    "    loss= choose_sgd.best_estimator_.loss, \n",
    "    penalty=choose_sgd.best_estimator_.penalty,\n",
    "    alpha=choose_sgd.best_estimator_.alpha,\n",
    "    shuffle=choose_sgd.best_estimator_.shuffle,\n",
    "    learning_rate=choose_sgd.best_estimator_.learning_rate,\n",
    "    max_iter=10**6,\n",
    "    tol=0.001,\n",
    ").fit(x_train, y_train)\n",
    "\n",
    "classifier_evaluation(best_sgd, x_test, y_test)"
   ]
  },
  {
   "cell_type": "markdown",
   "metadata": {},
   "source": [
    "### Gaussian Mixture"
   ]
  },
  {
   "cell_type": "code",
   "execution_count": 123,
   "metadata": {},
   "outputs": [
    {
     "name": "stdout",
     "output_type": "stream",
     "text": [
      "best accuracy: 0.6800962223806131\n",
      "best params: {'optimizer': 'lbfgs', 'n_restarts_optimizer': 8}\n"
     ]
    }
   ],
   "source": [
    "from sklearn.gaussian_process import GaussianProcessClassifier\n",
    "\n",
    "params = {\n",
    "    'optimizer': ['fmin_l_bfgs_b', 'lbfgs', 'sgd', 'rmsprop', 'adam'],\n",
    "    'n_restarts_optimizer': [0, 1, 2, 3, 4, 5, 6, 7, 8, 9],\n",
    "}\n",
    "\n",
    "choose_gaussian = model_selection.RandomizedSearchCV(GaussianProcessClassifier(), params, cv=5, scoring='accuracy', n_jobs=-1).fit(x_train, y_train)\n",
    "\n",
    "print(f'best accuracy: {choose_gaussian.best_score_}')\n",
    "print(f'best params: {choose_gaussian.best_params_}')"
   ]
  },
  {
   "cell_type": "code",
   "execution_count": 159,
   "metadata": {},
   "outputs": [
    {
     "name": "stdout",
     "output_type": "stream",
     "text": [
      "ROC Score: 0.6739766081871346\n",
      "Accuracy Score: 0.6946564885496184\n",
      "Average Precision Score: 0.5734883264139994\n",
      "f1 Score: 0.5945945945945945\n",
      "[[185  37]\n",
      " [ 83  88]]\n"
     ]
    },
    {
     "name": "stderr",
     "output_type": "stream",
     "text": [
      "/tmp/ipykernel_8040/218661130.py:5: MatplotlibDeprecationWarning: Auto-removal of grids by pcolor() and pcolormesh() is deprecated since 3.5 and will be removed two minor releases later; please call grid(False) first.\n",
      "  plt.colorbar()\n"
     ]
    },
    {
     "data": {
      "text/plain": [
       "0.6739766081871346"
      ]
     },
     "execution_count": 159,
     "metadata": {},
     "output_type": "execute_result"
    },
    {
     "data": {
      "image/png": "[encoded data removed]",
      "text/plain": [
       "<Figure size 432x432 with 2 Axes>"
      ]
     },
     "metadata": {},
     "output_type": "display_data"
    }
   ],
   "source": [
    "best_gaussian = GaussianProcessClassifier(\n",
    "    optimizer=choose_gaussian.best_estimator_.optimizer,\n",
    "    n_restarts_optimizer=choose_gaussian.best_estimator_.n_restarts_optimizer,\n",
    ").fit(x_train, y_train)\n",
    "\n",
    "classifier_evaluation(best_gaussian, x_test, y_test)"
   ]
  },
  {
   "cell_type": "markdown",
   "metadata": {},
   "source": [
    "### Decision Tree"
   ]
  },
  {
   "cell_type": "code",
   "execution_count": 137,
   "metadata": {},
   "outputs": [
    {
     "name": "stdout",
     "output_type": "stream",
     "text": [
      "best accuracy: 0.8460441910192446\n",
      "best params: {'splitter': 'random', 'min_weight_fraction_leaf': 0.2, 'min_samples_split': 4, 'min_samples_leaf': 2, 'max_depth': 7, 'criterion': 'entropy'}\n"
     ]
    },
    {
     "name": "stderr",
     "output_type": "stream",
     "text": [
      "/home/gianlucca/.local/lib/python3.8/site-packages/sklearn/model_selection/_validation.py:372: FitFailedWarning: \n",
      "45 fits failed out of a total of 50.\n",
      "The score on these train-test partitions for these parameters will be set to nan.\n",
      "If these failures are not expected, you can try to debug them by setting error_score='raise'.\n",
      "\n",
      "Below are more details about the failures:\n",
      "--------------------------------------------------------------------------------\n",
      "25 fits failed with the following error:\n",
      "Traceback (most recent call last):\n",
      "  File \"/home/gianlucca/.local/lib/python3.8/site-packages/sklearn/model_selection/_validation.py\", line 681, in _fit_and_score\n",
      "    estimator.fit(X_train, y_train, **fit_params)\n",
      "  File \"/home/gianlucca/.local/lib/python3.8/site-packages/sklearn/tree/_classes.py\", line 937, in fit\n",
      "    super().fit(\n",
      "  File \"/home/gianlucca/.local/lib/python3.8/site-packages/sklearn/tree/_classes.py\", line 304, in fit\n",
      "    raise ValueError(\"min_weight_fraction_leaf must in [0, 0.5]\")\n",
      "ValueError: min_weight_fraction_leaf must in [0, 0.5]\n",
      "\n",
      "--------------------------------------------------------------------------------\n",
      "20 fits failed with the following error:\n",
      "Traceback (most recent call last):\n",
      "  File \"/home/gianlucca/.local/lib/python3.8/site-packages/sklearn/model_selection/_validation.py\", line 681, in _fit_and_score\n",
      "    estimator.fit(X_train, y_train, **fit_params)\n",
      "  File \"/home/gianlucca/.local/lib/python3.8/site-packages/sklearn/tree/_classes.py\", line 937, in fit\n",
      "    super().fit(\n",
      "  File \"/home/gianlucca/.local/lib/python3.8/site-packages/sklearn/tree/_classes.py\", line 352, in fit\n",
      "    criterion = CRITERIA_CLF[self.criterion](\n",
      "KeyError: 'los_loss'\n",
      "\n",
      "  warnings.warn(some_fits_failed_message, FitFailedWarning)\n",
      "/home/gianlucca/.local/lib/python3.8/site-packages/sklearn/model_selection/_search.py:969: UserWarning: One or more of the test scores are non-finite: [       nan        nan        nan        nan        nan        nan\n",
      " 0.84604419        nan        nan        nan]\n",
      "  warnings.warn(\n"
     ]
    }
   ],
   "source": [
    "from sklearn.tree import DecisionTreeClassifier\n",
    "\n",
    "params = {\n",
    "    'criterion': ['gini', 'entropy', 'los_loss'],\n",
    "    'splitter': ['best', 'random'],\n",
    "    'max_depth': [None, 2, 3, 4, 5, 6, 7, 8, 9, 10],\n",
    "    'min_samples_split': [2, 3, 4, 5, 6, 7, 8, 9, 10],\n",
    "    'min_samples_leaf': [1, 2, 3, 4, 5, 6, 7, 8, 9, 10],\n",
    "    'min_weight_fraction_leaf': [0.0, 0.1, 0.2, 0.3, 0.4, 0.5, 0.6, 0.7, 0.8, 0.9, 1.0],\n",
    "}\n",
    "\n",
    "choose_decision_tree = model_selection.RandomizedSearchCV(DecisionTreeClassifier(), params, cv=5, scoring='accuracy', n_jobs=-1).fit(x_train, y_train)\n",
    "\n",
    "print(f'best accuracy: {choose_decision_tree.best_score_}')\n",
    "print(f'best params: {choose_decision_tree.best_params_}')"
   ]
  },
  {
   "cell_type": "code",
   "execution_count": 160,
   "metadata": {},
   "outputs": [
    {
     "name": "stdout",
     "output_type": "stream",
     "text": [
      "ROC Score: 0.8728465307412675\n",
      "Accuracy Score: 0.8753180661577609\n",
      "Average Precision Score: 0.7968777654358917\n",
      "f1 Score: 0.8563049853372433\n",
      "[[198  24]\n",
      " [ 25 146]]\n"
     ]
    },
    {
     "name": "stderr",
     "output_type": "stream",
     "text": [
      "/tmp/ipykernel_8040/218661130.py:5: MatplotlibDeprecationWarning: Auto-removal of grids by pcolor() and pcolormesh() is deprecated since 3.5 and will be removed two minor releases later; please call grid(False) first.\n",
      "  plt.colorbar()\n"
     ]
    },
    {
     "data": {
      "text/plain": [
       "0.8728465307412675"
      ]
     },
     "execution_count": 160,
     "metadata": {},
     "output_type": "execute_result"
    },
    {
     "data": {
      "image/png": "[encoded data removed]",
      "text/plain": [
       "<Figure size 432x432 with 2 Axes>"
      ]
     },
     "metadata": {},
     "output_type": "display_data"
    }
   ],
   "source": [
    "best_decision_tree = DecisionTreeClassifier(\n",
    "    criterion=choose_decision_tree.best_estimator_.criterion,\n",
    "    splitter=choose_decision_tree.best_estimator_.splitter,\n",
    "    max_depth=choose_decision_tree.best_estimator_.max_depth,\n",
    "    min_samples_split=choose_decision_tree.best_estimator_.min_samples_split,\n",
    "    min_samples_leaf=choose_decision_tree.best_estimator_.min_samples_leaf,\n",
    "    min_weight_fraction_leaf=choose_decision_tree.best_estimator_.min_weight_fraction_leaf,\n",
    ").fit(x_train, y_train)\n",
    "\n",
    "classifier_evaluation(best_decision_tree, x_test, y_test)"
   ]
  },
  {
   "cell_type": "markdown",
   "metadata": {},
   "source": [
    "### Random Forest"
   ]
  },
  {
   "cell_type": "code",
   "execution_count": 122,
   "metadata": {},
   "outputs": [
    {
     "name": "stdout",
     "output_type": "stream",
     "text": [
      "best accuracy: 0.8569731527678783\n",
      "best params: {'n_estimators': 75, 'max_features': 'sqrt', 'max_depth': 4, 'criterion': 'gini', 'bootstrap': True}\n"
     ]
    },
    {
     "name": "stderr",
     "output_type": "stream",
     "text": [
      "/home/gianlucca/.local/lib/python3.8/site-packages/sklearn/model_selection/_validation.py:372: FitFailedWarning: \n",
      "10 fits failed out of a total of 50.\n",
      "The score on these train-test partitions for these parameters will be set to nan.\n",
      "If these failures are not expected, you can try to debug them by setting error_score='raise'.\n",
      "\n",
      "Below are more details about the failures:\n",
      "--------------------------------------------------------------------------------\n",
      "10 fits failed with the following error:\n",
      "Traceback (most recent call last):\n",
      "  File \"/home/gianlucca/.local/lib/python3.8/site-packages/sklearn/model_selection/_validation.py\", line 681, in _fit_and_score\n",
      "    estimator.fit(X_train, y_train, **fit_params)\n",
      "  File \"/home/gianlucca/.local/lib/python3.8/site-packages/sklearn/ensemble/_forest.py\", line 442, in fit\n",
      "    trees = Parallel(\n",
      "  File \"/home/gianlucca/.local/lib/python3.8/site-packages/joblib/parallel.py\", line 1043, in __call__\n",
      "    if self.dispatch_one_batch(iterator):\n",
      "  File \"/home/gianlucca/.local/lib/python3.8/site-packages/joblib/parallel.py\", line 861, in dispatch_one_batch\n",
      "    self._dispatch(tasks)\n",
      "  File \"/home/gianlucca/.local/lib/python3.8/site-packages/joblib/parallel.py\", line 779, in _dispatch\n",
      "    job = self._backend.apply_async(batch, callback=cb)\n",
      "  File \"/home/gianlucca/.local/lib/python3.8/site-packages/joblib/_parallel_backends.py\", line 208, in apply_async\n",
      "    result = ImmediateResult(func)\n",
      "  File \"/home/gianlucca/.local/lib/python3.8/site-packages/joblib/_parallel_backends.py\", line 572, in __init__\n",
      "    self.results = batch()\n",
      "  File \"/home/gianlucca/.local/lib/python3.8/site-packages/joblib/parallel.py\", line 262, in __call__\n",
      "    return [func(*args, **kwargs)\n",
      "  File \"/home/gianlucca/.local/lib/python3.8/site-packages/joblib/parallel.py\", line 262, in <listcomp>\n",
      "    return [func(*args, **kwargs)\n",
      "  File \"/home/gianlucca/.local/lib/python3.8/site-packages/sklearn/utils/fixes.py\", line 211, in __call__\n",
      "    return self.function(*args, **kwargs)\n",
      "  File \"/home/gianlucca/.local/lib/python3.8/site-packages/sklearn/ensemble/_forest.py\", line 185, in _parallel_build_trees\n",
      "    tree.fit(X, y, sample_weight=curr_sample_weight, check_input=False)\n",
      "  File \"/home/gianlucca/.local/lib/python3.8/site-packages/sklearn/tree/_classes.py\", line 937, in fit\n",
      "    super().fit(\n",
      "  File \"/home/gianlucca/.local/lib/python3.8/site-packages/sklearn/tree/_classes.py\", line 352, in fit\n",
      "    criterion = CRITERIA_CLF[self.criterion](\n",
      "KeyError: 'log_loss'\n",
      "\n",
      "  warnings.warn(some_fits_failed_message, FitFailedWarning)\n",
      "/home/gianlucca/.local/lib/python3.8/site-packages/sklearn/model_selection/_search.py:969: UserWarning: One or more of the test scores are non-finite: [0.8417023  0.85150867 0.84604419        nan 0.84717273 0.84931694\n",
      "        nan 0.82200048 0.85151461 0.85697315]\n",
      "  warnings.warn(\n"
     ]
    }
   ],
   "source": [
    "from sklearn.ensemble import RandomForestClassifier\n",
    "\n",
    "params = {\n",
    "    'n_estimators': [10, 25, 50, 75, 100, 200, 500, 1000],\n",
    "    'criterion': ['gini', 'entropy', 'log_loss'],\n",
    "    'max_depth': [None, 2, 3, 4, 5, 6, 7, 8, 9, 10, 20],\n",
    "    'bootstrap': [True, False],\n",
    "    'max_features': ['auto', 'sqrt', 'log2'],\n",
    "}\n",
    "\n",
    "choose_random_forest = model_selection.RandomizedSearchCV(RandomForestClassifier(), params, cv=5, scoring='accuracy', n_jobs=-1).fit(x_train, y_train)\n",
    "\n",
    "print(f'best accuracy: {choose_random_forest.best_score_}')\n",
    "print(f'best params: {choose_random_forest.best_params_}')"
   ]
  },
  {
   "cell_type": "code",
   "execution_count": 166,
   "metadata": {},
   "outputs": [
    {
     "name": "stdout",
     "output_type": "stream",
     "text": [
      "ROC Score: 0.8721748063853326\n",
      "Accuracy Score: 0.8753180661577609\n",
      "Average Precision Score: 0.7980221439944221\n",
      "f1 Score: 0.855457227138643\n",
      "[[199  23]\n",
      " [ 26 145]]\n"
     ]
    },
    {
     "name": "stderr",
     "output_type": "stream",
     "text": [
      "/tmp/ipykernel_8040/218661130.py:5: MatplotlibDeprecationWarning: Auto-removal of grids by pcolor() and pcolormesh() is deprecated since 3.5 and will be removed two minor releases later; please call grid(False) first.\n",
      "  plt.colorbar()\n"
     ]
    },
    {
     "data": {
      "text/plain": [
       "0.8721748063853326"
      ]
     },
     "execution_count": 166,
     "metadata": {},
     "output_type": "execute_result"
    },
    {
     "data": {
      "image/png": "[encoded data removed]",
      "text/plain": [
       "<Figure size 432x432 with 2 Axes>"
      ]
     },
     "metadata": {},
     "output_type": "display_data"
    }
   ],
   "source": [
    "best_random_forest = RandomForestClassifier(\n",
    "    n_estimators=choose_random_forest.best_estimator_.n_estimators,\n",
    "    criterion=choose_random_forest.best_estimator_.criterion,\n",
    "    max_depth=choose_random_forest.best_estimator_.max_depth,\n",
    "    bootstrap=choose_random_forest.best_estimator_.bootstrap,\n",
    "    max_features=choose_random_forest.best_estimator_.max_features,\n",
    "    n_jobs=-1,    \n",
    ").fit(x_train, y_train)\n",
    "\n",
    "classifier_evaluation(best_random_forest, x_test, y_test)"
   ]
  },
  {
   "cell_type": "markdown",
   "metadata": {},
   "source": [
    "### Perceptron"
   ]
  },
  {
   "cell_type": "code",
   "execution_count": 164,
   "metadata": {},
   "outputs": [
    {
     "name": "stdout",
     "output_type": "stream",
     "text": [
      "best accuracy: 0.8493228795438347\n",
      "best params: {'shuffle': False, 'penalty': 'l1', 'alpha': 0.021544346900318846}\n"
     ]
    }
   ],
   "source": [
    "from sklearn.linear_model import Perceptron\n",
    "\n",
    "params = {\n",
    "    'penalty': ['l2', 'l1', 'elasticnet'],\n",
    "    'alpha': np.logspace(-5, 0, 7),\n",
    "    'shuffle': [True, False],    \n",
    "}\n",
    "\n",
    "choose_perceptron = model_selection.RandomizedSearchCV(Perceptron(), params, cv=5, scoring='accuracy', n_jobs=-1).fit(x_train, y_train)\n",
    "\n",
    "print(f'best accuracy: {choose_perceptron.best_score_}')\n",
    "print(f'best params: {choose_perceptron.best_params_}')"
   ]
  },
  {
   "cell_type": "code",
   "execution_count": 165,
   "metadata": {},
   "outputs": [
    {
     "name": "stdout",
     "output_type": "stream",
     "text": [
      "ROC Score: 0.8724118855697803\n",
      "Accuracy Score: 0.8778625954198473\n",
      "Average Precision Score: 0.806202085587905\n",
      "f1 Score: 0.8554216867469879\n",
      "[[203  19]\n",
      " [ 29 142]]\n"
     ]
    },
    {
     "name": "stderr",
     "output_type": "stream",
     "text": [
      "/tmp/ipykernel_8040/218661130.py:5: MatplotlibDeprecationWarning: Auto-removal of grids by pcolor() and pcolormesh() is deprecated since 3.5 and will be removed two minor releases later; please call grid(False) first.\n",
      "  plt.colorbar()\n"
     ]
    },
    {
     "data": {
      "text/plain": [
       "0.8724118855697803"
      ]
     },
     "execution_count": 165,
     "metadata": {},
     "output_type": "execute_result"
    },
    {
     "data": {
      "image/png": "[encoded data removed]",
      "text/plain": [
       "<Figure size 432x432 with 2 Axes>"
      ]
     },
     "metadata": {},
     "output_type": "display_data"
    }
   ],
   "source": [
    "best_perceptron = Perceptron(\n",
    "    penalty=choose_perceptron.best_estimator_.penalty,\n",
    "    alpha=choose_perceptron.best_estimator_.alpha,\n",
    "    shuffle=choose_perceptron.best_estimator_.shuffle,\n",
    "    max_iter=10**6,\n",
    "    tol=0.001,\n",
    ").fit(x_train, y_train)\n",
    "\n",
    "classifier_evaluation(best_perceptron, x_test, y_test)"
   ]
  },
  {
   "cell_type": "markdown",
   "metadata": {},
   "source": [
    "## 3. Avaliação Parcial dos Resultados"
   ]
  },
  {
   "cell_type": "code",
   "execution_count": 231,
   "metadata": {},
   "outputs": [],
   "source": [
    "def eval_dataframe(models):\n",
    "        \n",
    "    df_results = pd.DataFrame(columns=['model_name', 'accuracy','precision', 'recall', 'f1', 'roc_auc'])\n",
    "\n",
    "    for model in models:\n",
    "        predictions = models[model].predict(x_test)\n",
    "\n",
    "        accuracy = accuracy_score(y_test, predictions)\n",
    "        precision = precision_score(y_test, predictions)\n",
    "        recall = recall_score(y_test, predictions)\n",
    "        f1_score_ = f1_score(y_test, predictions)\n",
    "        roc_auc = roc_auc_score(y_test, predictions)\n",
    "\n",
    "        df_results = df_results.append({'model_name': model, 'accuracy': accuracy, 'precision': precision, 'recall': recall, 'f1': f1_score_, 'roc_auc': roc_auc}, ignore_index=True)\n",
    "\n",
    "    return df_results.sort_values(by=['accuracy', 'f1'], ascending=False)"
   ]
  },
  {
   "cell_type": "code",
   "execution_count": 211,
   "metadata": {},
   "outputs": [
    {
     "data": {
      "text/html": [
       "<div>\n",
       "<style scoped>\n",
       "    .dataframe tbody tr th:only-of-type {\n",
       "        vertical-align: middle;\n",
       "    }\n",
       "\n",
       "    .dataframe tbody tr th {\n",
       "        vertical-align: top;\n",
       "    }\n",
       "\n",
       "    .dataframe thead th {\n",
       "        text-align: right;\n",
       "    }\n",
       "</style>\n",
       "<table border=\"1\" class=\"dataframe\">\n",
       "  <thead>\n",
       "    <tr style=\"text-align: right;\">\n",
       "      <th></th>\n",
       "      <th>model_name</th>\n",
       "      <th>accuracy</th>\n",
       "      <th>precision</th>\n",
       "      <th>recall</th>\n",
       "      <th>f1</th>\n",
       "      <th>roc_auc</th>\n",
       "    </tr>\n",
       "  </thead>\n",
       "  <tbody>\n",
       "    <tr>\n",
       "      <th>7</th>\n",
       "      <td>Perceptron</td>\n",
       "      <td>0.877863</td>\n",
       "      <td>0.881988</td>\n",
       "      <td>0.830409</td>\n",
       "      <td>0.855422</td>\n",
       "      <td>0.872412</td>\n",
       "    </tr>\n",
       "    <tr>\n",
       "      <th>1</th>\n",
       "      <td>logistic regression</td>\n",
       "      <td>0.875318</td>\n",
       "      <td>0.858824</td>\n",
       "      <td>0.853801</td>\n",
       "      <td>0.856305</td>\n",
       "      <td>0.872847</td>\n",
       "    </tr>\n",
       "    <tr>\n",
       "      <th>2</th>\n",
       "      <td>SVM</td>\n",
       "      <td>0.875318</td>\n",
       "      <td>0.858824</td>\n",
       "      <td>0.853801</td>\n",
       "      <td>0.856305</td>\n",
       "      <td>0.872847</td>\n",
       "    </tr>\n",
       "    <tr>\n",
       "      <th>5</th>\n",
       "      <td>Decision Tree</td>\n",
       "      <td>0.875318</td>\n",
       "      <td>0.858824</td>\n",
       "      <td>0.853801</td>\n",
       "      <td>0.856305</td>\n",
       "      <td>0.872847</td>\n",
       "    </tr>\n",
       "    <tr>\n",
       "      <th>6</th>\n",
       "      <td>Random Forest</td>\n",
       "      <td>0.875318</td>\n",
       "      <td>0.863095</td>\n",
       "      <td>0.847953</td>\n",
       "      <td>0.855457</td>\n",
       "      <td>0.872175</td>\n",
       "    </tr>\n",
       "    <tr>\n",
       "      <th>3</th>\n",
       "      <td>SGD</td>\n",
       "      <td>0.867684</td>\n",
       "      <td>0.847953</td>\n",
       "      <td>0.847953</td>\n",
       "      <td>0.847953</td>\n",
       "      <td>0.865418</td>\n",
       "    </tr>\n",
       "    <tr>\n",
       "      <th>0</th>\n",
       "      <td>KNN</td>\n",
       "      <td>0.699746</td>\n",
       "      <td>0.719008</td>\n",
       "      <td>0.508772</td>\n",
       "      <td>0.595890</td>\n",
       "      <td>0.677809</td>\n",
       "    </tr>\n",
       "    <tr>\n",
       "      <th>4</th>\n",
       "      <td>Gaussian Process</td>\n",
       "      <td>0.694656</td>\n",
       "      <td>0.704000</td>\n",
       "      <td>0.514620</td>\n",
       "      <td>0.594595</td>\n",
       "      <td>0.673977</td>\n",
       "    </tr>\n",
       "  </tbody>\n",
       "</table>\n",
       "</div>"
      ],
      "text/plain": [
       "            model_name  accuracy  precision    recall        f1   roc_auc\n",
       "7           Perceptron  0.877863   0.881988  0.830409  0.855422  0.872412\n",
       "1  logistic regression  0.875318   0.858824  0.853801  0.856305  0.872847\n",
       "2                  SVM  0.875318   0.858824  0.853801  0.856305  0.872847\n",
       "5        Decision Tree  0.875318   0.858824  0.853801  0.856305  0.872847\n",
       "6        Random Forest  0.875318   0.863095  0.847953  0.855457  0.872175\n",
       "3                  SGD  0.867684   0.847953  0.847953  0.847953  0.865418\n",
       "0                  KNN  0.699746   0.719008  0.508772  0.595890  0.677809\n",
       "4     Gaussian Process  0.694656   0.704000  0.514620  0.594595  0.673977"
      ]
     },
     "execution_count": 211,
     "metadata": {},
     "output_type": "execute_result"
    }
   ],
   "source": [
    "models = {\n",
    "    'KNN': best_knn,\n",
    "    'logistic regression': best_regression,\n",
    "    'SVM': best_svc,\n",
    "    'SGD': best_sgd,\n",
    "    'Gaussian Process': best_gaussian,\n",
    "    'Decision Tree': best_decision_tree,\n",
    "    'Random Forest': best_random_forest,\n",
    "    'Perceptron': best_perceptron,\n",
    "}\n",
    "\n",
    "df_results = eval_dataframe(models)\n",
    "df_results"
   ]
  },
  {
   "cell_type": "code",
   "execution_count": 233,
   "metadata": {},
   "outputs": [
    {
     "name": "stderr",
     "output_type": "stream",
     "text": [
      "/home/gianlucca/.local/lib/python3.8/site-packages/sklearn/linear_model/_logistic.py:1483: UserWarning: Setting penalty='none' will ignore the C and l1_ratio parameters\n",
      "  warnings.warn(\n",
      "/home/gianlucca/.local/lib/python3.8/site-packages/sklearn/linear_model/_stochastic_gradient.py:696: ConvergenceWarning: Maximum number of iteration reached before convergence. Consider increasing max_iter to improve the fit.\n",
      "  warnings.warn(\n"
     ]
    },
    {
     "data": {
      "text/html": [
       "<div>\n",
       "<style scoped>\n",
       "    .dataframe tbody tr th:only-of-type {\n",
       "        vertical-align: middle;\n",
       "    }\n",
       "\n",
       "    .dataframe tbody tr th {\n",
       "        vertical-align: top;\n",
       "    }\n",
       "\n",
       "    .dataframe thead th {\n",
       "        text-align: right;\n",
       "    }\n",
       "</style>\n",
       "<table border=\"1\" class=\"dataframe\">\n",
       "  <thead>\n",
       "    <tr style=\"text-align: right;\">\n",
       "      <th></th>\n",
       "      <th>model_name</th>\n",
       "      <th>accuracy</th>\n",
       "      <th>precision</th>\n",
       "      <th>recall</th>\n",
       "      <th>f1</th>\n",
       "      <th>roc_auc</th>\n",
       "    </tr>\n",
       "  </thead>\n",
       "  <tbody>\n",
       "    <tr>\n",
       "      <th>6</th>\n",
       "      <td>Random Forest</td>\n",
       "      <td>0.882952</td>\n",
       "      <td>0.874251</td>\n",
       "      <td>0.853801</td>\n",
       "      <td>0.863905</td>\n",
       "      <td>0.879603</td>\n",
       "    </tr>\n",
       "    <tr>\n",
       "      <th>7</th>\n",
       "      <td>Perceptron</td>\n",
       "      <td>0.877863</td>\n",
       "      <td>0.881988</td>\n",
       "      <td>0.830409</td>\n",
       "      <td>0.855422</td>\n",
       "      <td>0.872412</td>\n",
       "    </tr>\n",
       "    <tr>\n",
       "      <th>1</th>\n",
       "      <td>logistic regression</td>\n",
       "      <td>0.875318</td>\n",
       "      <td>0.858824</td>\n",
       "      <td>0.853801</td>\n",
       "      <td>0.856305</td>\n",
       "      <td>0.872847</td>\n",
       "    </tr>\n",
       "    <tr>\n",
       "      <th>2</th>\n",
       "      <td>SVM</td>\n",
       "      <td>0.875318</td>\n",
       "      <td>0.858824</td>\n",
       "      <td>0.853801</td>\n",
       "      <td>0.856305</td>\n",
       "      <td>0.872847</td>\n",
       "    </tr>\n",
       "    <tr>\n",
       "      <th>5</th>\n",
       "      <td>Decision Tree</td>\n",
       "      <td>0.875318</td>\n",
       "      <td>0.858824</td>\n",
       "      <td>0.853801</td>\n",
       "      <td>0.856305</td>\n",
       "      <td>0.872847</td>\n",
       "    </tr>\n",
       "    <tr>\n",
       "      <th>3</th>\n",
       "      <td>SGD</td>\n",
       "      <td>0.867684</td>\n",
       "      <td>0.847953</td>\n",
       "      <td>0.847953</td>\n",
       "      <td>0.847953</td>\n",
       "      <td>0.865418</td>\n",
       "    </tr>\n",
       "    <tr>\n",
       "      <th>0</th>\n",
       "      <td>KNN</td>\n",
       "      <td>0.699746</td>\n",
       "      <td>0.719008</td>\n",
       "      <td>0.508772</td>\n",
       "      <td>0.595890</td>\n",
       "      <td>0.677809</td>\n",
       "    </tr>\n",
       "    <tr>\n",
       "      <th>4</th>\n",
       "      <td>Gaussian Process</td>\n",
       "      <td>0.694656</td>\n",
       "      <td>0.704000</td>\n",
       "      <td>0.514620</td>\n",
       "      <td>0.594595</td>\n",
       "      <td>0.673977</td>\n",
       "    </tr>\n",
       "  </tbody>\n",
       "</table>\n",
       "</div>"
      ],
      "text/plain": [
       "            model_name  accuracy  precision    recall        f1   roc_auc\n",
       "6        Random Forest  0.882952   0.874251  0.853801  0.863905  0.879603\n",
       "7           Perceptron  0.877863   0.881988  0.830409  0.855422  0.872412\n",
       "1  logistic regression  0.875318   0.858824  0.853801  0.856305  0.872847\n",
       "2                  SVM  0.875318   0.858824  0.853801  0.856305  0.872847\n",
       "5        Decision Tree  0.875318   0.858824  0.853801  0.856305  0.872847\n",
       "3                  SGD  0.867684   0.847953  0.847953  0.847953  0.865418\n",
       "0                  KNN  0.699746   0.719008  0.508772  0.595890  0.677809\n",
       "4     Gaussian Process  0.694656   0.704000  0.514620  0.594595  0.673977"
      ]
     },
     "execution_count": 233,
     "metadata": {},
     "output_type": "execute_result"
    }
   ],
   "source": [
    "x_train, x_test, y_train, y_test = train_test_split(x, y, test_size=0.3, random_state=0)\n",
    "\n",
    "for model in models:\n",
    "    models[model].fit(x_train, y_train)\n",
    "    \n",
    "eval_dataframe(models)"
   ]
  },
  {
   "cell_type": "code",
   "execution_count": null,
   "metadata": {},
   "outputs": [],
   "source": []
  }
 ],
 "metadata": {
  "interpreter": {
   "hash": "31f2aee4e71d21fbe5cf8b01ff0e069b9275f58929596ceb00d14d90e3e16cd6"
  },
  "kernelspec": {
   "display_name": "Python 3.8.10 64-bit",
   "language": "python",
   "name": "python3"
  },
  "language_info": {
   "codemirror_mode": {
    "name": "ipython",
    "version": 3
   },
   "file_extension": ".py",
   "mimetype": "text/x-python",
   "name": "python",
   "nbconvert_exporter": "python",
   "pygments_lexer": "ipython3",
   "version": "3.8.10"
  },
  "orig_nbformat": 4
 },
 "nbformat": 4,
 "nbformat_minor": 2
}
